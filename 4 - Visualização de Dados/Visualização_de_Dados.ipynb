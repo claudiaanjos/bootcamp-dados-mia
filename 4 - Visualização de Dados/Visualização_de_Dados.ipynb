{
  "cells": [
    {
      "cell_type": "code",
      "source": [
        "# Célula para executar no colab e ter acesso aos arquivos que estão no Google Drive\n",
        "# Descomente caso isso seja necessário\n",
        "\n",
        "# from google.colab import drive\n",
        "# drive.mount('/content/drive')\n",
        "\n",
        "# o resultado da celula te dirá em qual pasta você consegue acessar o seu drive"
      ],
      "metadata": {
        "id": "sFliWLFHVfTJ"
      },
      "execution_count": null,
      "outputs": []
    },
    {
      "cell_type": "markdown",
      "metadata": {
        "id": "gXH7bxwkSph3"
      },
      "source": [
        "# Visualização de dados\n",
        "\n",
        "Vamos aprender alguns gráficos básicos em python fazendo algumas visualizações sobre mulheres na Ciência de Dados no Brasil\n"
      ]
    },
    {
      "cell_type": "markdown",
      "metadata": {
        "id": "ozovkofaSph5"
      },
      "source": [
        "![](https://media.giphy.com/media/zw69pUViBZCZW/giphy.gif)"
      ]
    },
    {
      "cell_type": "code",
      "execution_count": null,
      "metadata": {
        "collapsed": true,
        "id": "PtEKbYhDSph6"
      },
      "outputs": [],
      "source": [
        "import seaborn as sns\n",
        "import matplotlib.pyplot as plt\n",
        "import pandas as pd\n",
        "import re\n",
        "%matplotlib inline"
      ]
    },
    {
      "cell_type": "code",
      "execution_count": null,
      "metadata": {
        "id": "1jPDPsE5Sph7"
      },
      "outputs": [],
      "source": [
        "df = pd.read_csv('/content/drive/MyDrive/Drive Mulheres em IA/Bootcamp MIA - 2022/Aulas/4 - Visualização de dados/State of Data 2021 - Dataset - Pgina1.csv')"
      ]
    },
    {
      "cell_type": "code",
      "source": [
        "df.head()"
      ],
      "metadata": {
        "id": "acunDqYqepLw"
      },
      "execution_count": null,
      "outputs": []
    },
    {
      "cell_type": "code",
      "source": [
        "len(df)"
      ],
      "metadata": {
        "id": "fBnMWU06fLUF"
      },
      "execution_count": null,
      "outputs": []
    },
    {
      "cell_type": "markdown",
      "source": [
        "Primeiro vamos ver o que tem nos nossos dados:\n",
        "\n",
        "Temos 21 variáveis e 2645"
      ],
      "metadata": {
        "id": "-_Y0vCZaWx3x"
      }
    },
    {
      "cell_type": "markdown",
      "metadata": {
        "id": "fD8rtHKjSph8"
      },
      "source": [
        "## Definição da Visualização"
      ]
    },
    {
      "cell_type": "markdown",
      "metadata": {
        "id": "jow4o6M-Sph8"
      },
      "source": [
        "Primeira etapa da nossa visualização é definir nossas perguntas, o que queremos responder com esses dados??\n"
      ]
    },
    {
      "cell_type": "markdown",
      "metadata": {
        "id": "8XCjYK45Sph8"
      },
      "source": [
        "**Pergunta: Mulheres ganham menos que homens?**\n",
        "\n"
      ]
    },
    {
      "cell_type": "markdown",
      "source": [
        "## Primeiros Gráficos\n",
        "\n",
        "Vamos analisar algumas coisas antes de responder essa pergunta"
      ],
      "metadata": {
        "id": "lUp6rUFDq5J5"
      }
    },
    {
      "cell_type": "markdown",
      "source": [
        "### 1. Distribuição de mulheres e homens no dataset"
      ],
      "metadata": {
        "id": "CbJH6VQ6rRHx"
      }
    },
    {
      "cell_type": "code",
      "execution_count": null,
      "metadata": {
        "collapsed": true,
        "id": "PRJSP9xcSph9"
      },
      "outputs": [],
      "source": [
        "df['Genero'].value_counts()"
      ]
    },
    {
      "cell_type": "code",
      "source": [
        "plt.bar(df['Genero'].unique(), df['Genero'].value_counts())\n",
        "plt.title('Distribuição de Genero na Área de Dados')\n",
        "plt.xlabel('Gênero')\n",
        "plt.ylabel('Total')"
      ],
      "metadata": {
        "id": "OQwBJJqXh4Gi"
      },
      "execution_count": null,
      "outputs": []
    },
    {
      "cell_type": "markdown",
      "source": [
        "Vamos gerar esse gráfico de um jeito mais bonito"
      ],
      "metadata": {
        "id": "uTzH-6EniFZT"
      }
    },
    {
      "cell_type": "markdown",
      "source": [
        "Link de palletes do seaborn: [Palettes](https://seaborn.pydata.org/tutorial/color_palettes.html?highlight=palette)"
      ],
      "metadata": {
        "id": "rMyBlTho7Lls"
      }
    },
    {
      "cell_type": "code",
      "source": [
        "sns.countplot(y=\"Genero\", data=df, palette=\"inferno\", order=df['Genero'].value_counts().index) \\\n",
        ".set_title(\"'Distribuição de Genero na Área de Dados'\")"
      ],
      "metadata": {
        "id": "UtjSpUxBh80B"
      },
      "execution_count": null,
      "outputs": []
    },
    {
      "cell_type": "markdown",
      "source": [
        "Vamos ver em gráfico de pizza"
      ],
      "metadata": {
        "id": "HhPBQai2jaBs"
      }
    },
    {
      "cell_type": "code",
      "source": [
        "tmp = pd.DataFrame(df['Genero'].value_counts())\n",
        "tmp.plot.pie(y='Genero', figsize=(10, 10),autopct='%.2f', title='Porcentagem de Pessoas por Gênero na Área Dados', \n",
        "                 startangle=90,legend=False, ylabel=None, colors=['blue', 'red', 'green'])"
      ],
      "metadata": {
        "id": "PY5VhfOwjXyP"
      },
      "execution_count": null,
      "outputs": []
    },
    {
      "cell_type": "markdown",
      "metadata": {
        "id": "9JXxTx3SSph_"
      },
      "source": [
        "### **\\<TAREFA PARA CASA\\>** Distribuição de Cargos\n",
        "\n",
        "Vimos 3 formas de criar gráficos:\n",
        " - pelo matplotlib\n",
        " - pelo seaborn\n",
        " - direto pelo dataframe\n",
        "\n",
        " ### Escolha uma das formas e plot a distribuição dos Cargos"
      ]
    },
    {
      "cell_type": "code",
      "execution_count": null,
      "metadata": {
        "collapsed": true,
        "id": "R9e4zLYJSph_"
      },
      "outputs": [],
      "source": [
        "# <code> faça o desafio aqui"
      ]
    },
    {
      "cell_type": "markdown",
      "source": [
        "### Vamos agora analisar a distribuição de nível por gênero:\n"
      ],
      "metadata": {
        "id": "qAaAdFBywJch"
      }
    },
    {
      "cell_type": "code",
      "source": [
        "tmp = df.groupby('Genero')['Nivel'].value_counts()\n",
        "tmp.head()"
      ],
      "metadata": {
        "id": "eUkepw2QwHrw"
      },
      "execution_count": null,
      "outputs": []
    },
    {
      "cell_type": "code",
      "source": [
        "tmp = tmp.reset_index(name='total')\n",
        "tmp.head()"
      ],
      "metadata": {
        "id": "OMlKBC76x5s9"
      },
      "execution_count": null,
      "outputs": []
    },
    {
      "cell_type": "code",
      "source": [
        "plt.figure(figsize=(20,10))\n",
        "sns.barplot(x='Nivel', y='total', hue='Genero', data=tmp, hue_order=['Masculino', 'Feminino', 'Outro'], palette='inferno')"
      ],
      "metadata": {
        "id": "ZBqxcd0OyU4B"
      },
      "execution_count": null,
      "outputs": []
    },
    {
      "cell_type": "markdown",
      "source": [
        "Essa visualização está boa? \n",
        "\n",
        "Conseguimos ver a diferença de nível caindo?\n",
        "\n",
        "O que poderíamos mudar para melhorar??"
      ],
      "metadata": {
        "id": "yZd_OgQJzopz"
      }
    },
    {
      "cell_type": "markdown",
      "source": [
        "### Vamos analisar os salários\n",
        "\n",
        "Primeiro vamos fazer um histograma para analisar a distribuição geral dos salários"
      ],
      "metadata": {
        "id": "RchCPBck4PTl"
      }
    },
    {
      "cell_type": "code",
      "source": [
        "df['Faixa Salarial_number'].hist()"
      ],
      "metadata": {
        "id": "hA6LYRLA3EOR"
      },
      "execution_count": null,
      "outputs": []
    },
    {
      "cell_type": "code",
      "source": [
        ""
      ],
      "metadata": {
        "id": "wld6XdL54YwH"
      },
      "execution_count": null,
      "outputs": []
    },
    {
      "cell_type": "markdown",
      "source": [
        "## Gráfico de Gênero vs Salário\n",
        "\n",
        "Agora sim! Vamos ver a diferença de salários entre gêneros. \n",
        "\n",
        "Porém, não podemos comparar bananas com laranjas, vamos olhar primeiro somente para ciência de dados separando por nível."
      ],
      "metadata": {
        "id": "DMn3U2JF4lOt"
      }
    },
    {
      "cell_type": "code",
      "source": [
        "df2 = df[df['Cargo Atual'].str.contains('Cientista de Dados', na=False)]"
      ],
      "metadata": {
        "id": "g6BCq2CY1-cT"
      },
      "execution_count": null,
      "outputs": []
    },
    {
      "cell_type": "code",
      "source": [
        "tmp = df2.groupby(['Genero', 'Nivel'])['Faixa Salarial_number'].mean()"
      ],
      "metadata": {
        "id": "ftx46R0R2krb"
      },
      "execution_count": null,
      "outputs": []
    },
    {
      "cell_type": "code",
      "source": [
        "tmp.head()"
      ],
      "metadata": {
        "id": "jz9ke1Te2x5Q"
      },
      "execution_count": null,
      "outputs": []
    },
    {
      "cell_type": "code",
      "source": [
        "tmp = tmp.reset_index(name='Salario Medio')\n",
        "tmp.head()"
      ],
      "metadata": {
        "id": "oDWb3D4G2z3c"
      },
      "execution_count": null,
      "outputs": []
    },
    {
      "cell_type": "code",
      "source": [
        "plt.figure(figsize=(20,10))\n",
        "sns.barplot(x='Nivel', y='Salario Medio', hue='Genero', data=tmp, order=['Júnior', 'Pleno', 'Sênior', 'Gestor'], palette='inferno', hue_order=['Masculino', 'Feminino', 'Outro'])"
      ],
      "metadata": {
        "id": "oHjs3odv25uA"
      },
      "execution_count": null,
      "outputs": []
    },
    {
      "cell_type": "code",
      "source": [
        "#Vamos ver isso de outra forma, por tempo de experiencia\n",
        "tmp = df2.groupby(['Genero', 'Tempo XP em Dados'])['Faixa Salarial_number'].mean()\n",
        "tmp = tmp.reset_index(name='Salario Medio')\n",
        "plt.figure(figsize=(20,10))\n",
        "sns.barplot(x='Tempo XP em Dados', y='Salario Medio', hue='Genero', data=tmp, order=['Não tenho experiência na área de dados','Menos de 1 ano', 'de 1 a 2 anos',\n",
        "       'de 2 a 3 anos', 'de 4 a 5 anos', 'de 6 a 10 anos', 'Mais de 10 anos'],\n",
        "            hue_order=['Masculino', 'Feminino', 'Outro'], palette='inferno')"
      ],
      "metadata": {
        "id": "KrNz9Jy851XY"
      },
      "execution_count": null,
      "outputs": []
    },
    {
      "cell_type": "markdown",
      "source": [
        "### **\\<TAREFA PARA CASA\\>** \n",
        "\n",
        "1. Analise a diferença de salario para gestão, olhar a coluna: \"Cargo como Gestor(a)\"\n",
        "2. Analise a diferença por formação, olhar as colunas \"Nivel Ensino\" e \"Area Formacao\"\n",
        "\n"
      ],
      "metadata": {
        "id": "i_txvHMe3R6z"
      }
    },
    {
      "cell_type": "code",
      "source": [
        "# <code> faça o desafio aqui"
      ],
      "metadata": {
        "id": "eig7ai606hB5"
      },
      "execution_count": 1,
      "outputs": []
    }
  ],
  "metadata": {
    "kernelspec": {
      "display_name": "Python 3",
      "language": "python",
      "name": "python3"
    },
    "language_info": {
      "codemirror_mode": {
        "name": "ipython",
        "version": 3
      },
      "file_extension": ".py",
      "mimetype": "text/x-python",
      "name": "python",
      "nbconvert_exporter": "python",
      "pygments_lexer": "ipython3",
      "version": "3.6.3"
    },
    "colab": {
      "name": "Visualização de Dados.ipynb",
      "provenance": [],
      "toc_visible": true,
      "collapsed_sections": []
    }
  },
  "nbformat": 4,
  "nbformat_minor": 0
}
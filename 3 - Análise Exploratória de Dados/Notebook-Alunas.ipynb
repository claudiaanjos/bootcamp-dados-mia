{
  "cells": [
    {
      "cell_type": "markdown",
      "source": [
        "Os dados podem ser baixados em https://www.kaggle.com/datasets/carolzhangdc/imdb-5000-movie-dataset?resource=download "
      ],
      "metadata": {
        "id": "Q72m_GjFzm3o"
      }
    },
    {
      "cell_type": "code",
      "source": [
        ""
      ],
      "metadata": {
        "id": "me05AAAxzkk8"
      },
      "execution_count": null,
      "outputs": []
    },
    {
      "cell_type": "markdown",
      "metadata": {
        "id": "RDsSwbTJLt_F"
      },
      "source": [
        "## Importando as bibliotecas"
      ]
    },
    {
      "cell_type": "code",
      "execution_count": null,
      "metadata": {
        "id": "vCUWQ2ezLt_M"
      },
      "outputs": [],
      "source": [
        "import pandas as pd\n",
        "import matplotlib.pyplot as plt\n",
        "import seaborn as sns\n",
        "from plotnine import *"
      ]
    },
    {
      "cell_type": "markdown",
      "metadata": {
        "id": "k5ZHE8LaLt_O"
      },
      "source": [
        "## Leitura dos dados e visualização do conteúdo"
      ]
    },
    {
      "cell_type": "code",
      "execution_count": null,
      "metadata": {
        "id": "0taCqwsgLt_P"
      },
      "outputs": [],
      "source": [
        "#carrega os dados no dataframe\n",
        "df = pd.read_csv('movie_metadata.csv')"
      ]
    },
    {
      "cell_type": "code",
      "source": [
        "#lista as colunas do dataframe\n",
        "df.columns\n"
      ],
      "metadata": {
        "id": "s6BTL-3KNWEC"
      },
      "execution_count": null,
      "outputs": []
    },
    {
      "cell_type": "code",
      "execution_count": null,
      "metadata": {
        "id": "eZ188umhLt_Q"
      },
      "outputs": [],
      "source": [
        "#visualiza as primeiras 5 entradas do dataframe (se quiser ver mais é só colocar um valor dentro dos parênteses)\n",
        "df.head()"
      ]
    },
    {
      "cell_type": "code",
      "execution_count": null,
      "metadata": {
        "id": "JEGhL2fsLt_S"
      },
      "outputs": [],
      "source": [
        "#imprime o número de linhas e colunas do dataframe\n",
        "df.shape"
      ]
    },
    {
      "cell_type": "code",
      "execution_count": null,
      "metadata": {
        "id": "eyirUGaiLt_T"
      },
      "outputs": [],
      "source": [
        "#imprime o tipo de dado em cada coluna: object - variáveis categóricas, float64 e int64 - variáveis numéricas\n",
        "df.dtypes"
      ]
    },
    {
      "cell_type": "code",
      "source": [
        "numericas_cols = [col for col in df.columns if df[col].dtype != 'object']\n",
        "categoricas_cols = [col for col in df.columns if df[col].dtype == 'object']"
      ],
      "metadata": {
        "id": "-c0QSIAoe2sW"
      },
      "execution_count": null,
      "outputs": []
    },
    {
      "cell_type": "markdown",
      "source": [
        "numericas_cols, categoricas_cols"
      ],
      "metadata": {
        "id": "PXR_DfScfA9i"
      }
    },
    {
      "cell_type": "markdown",
      "metadata": {
        "id": "D2YENndxLt_V"
      },
      "source": [
        "## Análise Exploratória"
      ]
    },
    {
      "cell_type": "code",
      "source": [
        "df[numericas_cols].describe()"
      ],
      "metadata": {
        "id": "_RHZA5eDc05R"
      },
      "execution_count": null,
      "outputs": []
    },
    {
      "cell_type": "code",
      "source": [
        "df[categoricas_cols].describe()"
      ],
      "metadata": {
        "id": "_HmjxVc8fTpp"
      },
      "execution_count": null,
      "outputs": []
    },
    {
      "cell_type": "code",
      "execution_count": null,
      "metadata": {
        "id": "Z_jh3o6wLt_W"
      },
      "outputs": [],
      "source": [
        "#descartando a coluna com o link do IMDB do filme\n",
        "df.drop('movie_imdb_link', axis=1, inplace=True)"
      ]
    },
    {
      "cell_type": "code",
      "execution_count": null,
      "metadata": {
        "id": "iZmBNa0QLt_X"
      },
      "outputs": [],
      "source": [
        "#Verificando quais os valores da coluna 'color'\n",
        "df['color'].value_counts()"
      ]
    },
    {
      "cell_type": "code",
      "execution_count": null,
      "metadata": {
        "id": "V4_il40yLt_Y"
      },
      "outputs": [],
      "source": [
        "#descartando a coluna 'color'\n",
        "\n",
        "df.drop('color', axis=1, inplace=True)"
      ]
    },
    {
      "cell_type": "code",
      "execution_count": null,
      "metadata": {
        "id": "wMFPQiXPLt_Y"
      },
      "outputs": [],
      "source": [
        "#verificando se existem valores faltantes nos dados\n",
        "df.isna().any()"
      ]
    },
    {
      "cell_type": "code",
      "execution_count": null,
      "metadata": {
        "id": "K3YaueyGLt_Z"
      },
      "outputs": [],
      "source": [
        "#verificando quantos valores faltantes existem nos dados\n",
        "df.isna().sum()"
      ]
    },
    {
      "cell_type": "code",
      "execution_count": null,
      "metadata": {
        "id": "nqfaRqLZLt_a"
      },
      "outputs": [],
      "source": [
        "#descartando as linhas que tem poucos valores faltantes\n",
        "df.dropna(axis=0, subset=['director_name', 'num_critic_for_reviews',\n",
        "                               'duration','director_facebook_likes','actor_3_facebook_likes',\n",
        "                               'actor_2_name','actor_1_facebook_likes','actor_1_name','actor_3_name',\n",
        "                               'facenumber_in_poster','num_user_for_reviews','language','country',\n",
        "                               'actor_2_facebook_likes','plot_keywords', 'title_year'],inplace=True)"
      ]
    },
    {
      "cell_type": "code",
      "execution_count": null,
      "metadata": {
        "id": "1iMDw6xvLt_a"
      },
      "outputs": [],
      "source": [
        "#verificando quantas linhas de dados ainda estão no dataframe. Perdemos apenas 6% dos dados\n",
        "df.shape"
      ]
    },
    {
      "cell_type": "code",
      "execution_count": null,
      "metadata": {
        "id": "XCl8c3u8Lt_b"
      },
      "outputs": [],
      "source": [
        "#verificando quais os valores na coluna 'content rating' (classificação indicativa)\n",
        "df['content_rating'].value_counts()"
      ]
    },
    {
      "cell_type": "code",
      "execution_count": null,
      "metadata": {
        "id": "RxRROLqhLt_b"
      },
      "outputs": [],
      "source": [
        "#substituindo os valores faltantes por 'Not Rated'\n",
        "df['content_rating'].fillna('Not Rated', inplace=True)"
      ]
    },
    {
      "cell_type": "code",
      "execution_count": null,
      "metadata": {
        "id": "IdMCXwnZLt_b"
      },
      "outputs": [],
      "source": [
        "##verificando quais os valores na coluna 'aspect ratio' (proporção de tela)\n",
        "df['aspect_ratio'].value_counts()"
      ]
    },
    {
      "cell_type": "code",
      "execution_count": null,
      "metadata": {
        "id": "rAERWetFLt_c"
      },
      "outputs": [],
      "source": [
        "#substituindo os valores faltantes pela mediana dos valores - cuidado ao \n",
        "#substituir pela mediana, você pode criar valores que não fazem sentido pro seu problema\n",
        "df['aspect_ratio'].fillna(df['aspect_ratio'].median(), inplace=True)"
      ]
    },
    {
      "cell_type": "code",
      "source": [
        "##verificando quais os valores na coluna 'gross' (ganho bruto do filme)\n",
        "\n",
        "df['gross'].value_counts()"
      ],
      "metadata": {
        "id": "W0-JvI5BWaov"
      },
      "execution_count": null,
      "outputs": []
    },
    {
      "cell_type": "code",
      "execution_count": null,
      "metadata": {
        "id": "HgYlSbFpLt_c"
      },
      "outputs": [],
      "source": [
        "#substituindo os valores faltantes pela mediana dos valores\n",
        "df['gross'].fillna(df['gross'].median(), inplace=True)"
      ]
    },
    {
      "cell_type": "code",
      "source": [
        "df['budget'].value_counts()"
      ],
      "metadata": {
        "id": "ZlQu1D30dDYY"
      },
      "execution_count": null,
      "outputs": []
    },
    {
      "cell_type": "code",
      "execution_count": null,
      "metadata": {
        "id": "zdK1E6RiLt_c"
      },
      "outputs": [],
      "source": [
        "#substituindo os valores faltantes pela mediana dos valores\n",
        "df['budget'].fillna(df['budget'].median(), inplace=True)"
      ]
    },
    {
      "cell_type": "code",
      "execution_count": null,
      "metadata": {
        "id": "f1sQ80gwLt_d"
      },
      "outputs": [],
      "source": [
        "#verificando se removemos (ou substituimos) todos os valores faltantes\n",
        "df.isna().sum()"
      ]
    },
    {
      "cell_type": "code",
      "execution_count": null,
      "metadata": {
        "id": "bAuU_x2QLt_d"
      },
      "outputs": [],
      "source": [
        "#verificando se temos valores duplicados\n",
        "df.duplicated().sum()"
      ]
    },
    {
      "cell_type": "code",
      "execution_count": null,
      "metadata": {
        "id": "Ph33d40eLt_d"
      },
      "outputs": [],
      "source": [
        "#removendo as duplicatas\n",
        "df.drop_duplicates(inplace=True)"
      ]
    },
    {
      "cell_type": "code",
      "execution_count": null,
      "metadata": {
        "id": "Ul-AmQmoLt_d"
      },
      "outputs": [],
      "source": [
        "df.shape"
      ]
    },
    {
      "cell_type": "code",
      "execution_count": null,
      "metadata": {
        "id": "wznIAvZiLt_e"
      },
      "outputs": [],
      "source": [
        "#verificando quais os valores da coluna 'language'\n",
        "df['language'].value_counts()"
      ]
    },
    {
      "cell_type": "code",
      "execution_count": null,
      "metadata": {
        "id": "sDgqbmKsLt_e"
      },
      "outputs": [],
      "source": [
        "#descartando a coluna 'language'\n",
        "df.drop('language', axis=1, inplace=True)"
      ]
    },
    {
      "cell_type": "code",
      "execution_count": null,
      "metadata": {
        "id": "fNsJI2ReLt_e"
      },
      "outputs": [],
      "source": [
        "#verificando os valores na coluna 'country'\n",
        "df['country'].value_counts()"
      ]
    },
    {
      "cell_type": "code",
      "execution_count": null,
      "metadata": {
        "id": "etgwttxTLt_e"
      },
      "outputs": [],
      "source": [
        "#descartando a coluna 'country'\n",
        "df.drop('country', axis=1, inplace=True)"
      ]
    },
    {
      "cell_type": "code",
      "execution_count": null,
      "metadata": {
        "id": "LbCflxtMLt_e"
      },
      "outputs": [],
      "source": [
        "#criando uma nova coluna na tabela\n",
        "df['Profit'] = df['budget'].sub(df['gross'], axis=0)"
      ]
    },
    {
      "cell_type": "code",
      "execution_count": null,
      "metadata": {
        "id": "lc87fjGzLt_f"
      },
      "outputs": [],
      "source": [
        "#verificando se a coluna foi criada corretamente\n",
        "df.head()"
      ]
    },
    {
      "cell_type": "code",
      "execution_count": null,
      "metadata": {
        "id": "bR32-TUCLt_f"
      },
      "outputs": [],
      "source": [
        "#salvando os dados do dataframe em um arquivo csv\n",
        "df.to_csv('dados_imdb_analiseexpl.csv', index=False)"
      ]
    },
    {
      "cell_type": "markdown",
      "metadata": {
        "id": "6pVYG3i7Lt_f"
      },
      "source": [
        "## Visualização dos dados"
      ]
    },
    {
      "cell_type": "code",
      "execution_count": null,
      "metadata": {
        "id": "G2jMoncRLt_g"
      },
      "outputs": [],
      "source": [
        "#criando gráfico de correlaciona lucro e nota do IMDB\n",
        "ggplot(aes(x='imdb_score', y='Profit'), data=df) +\\\n",
        "    geom_line() +\\\n",
        "    stat_smooth(colour='blue', span=1)"
      ]
    },
    {
      "cell_type": "code",
      "execution_count": null,
      "metadata": {
        "id": "MxxxxvIzLt_g"
      },
      "outputs": [],
      "source": [
        "#criando gráfico de correlaciona likes no facebook do filme e nota do IMDB\n",
        "\n",
        "(ggplot(df)+\\\n",
        "    aes(x='imdb_score', y='movie_facebook_likes') +\\\n",
        "    geom_line() +\\\n",
        "    labs(title='Nota no IMDB vs likes no facebook do filme', x='Nota no IMDB', y='Likes no facebook')\n",
        ")"
      ]
    },
    {
      "cell_type": "code",
      "execution_count": null,
      "metadata": {
        "id": "NFtoK9YTLt_g"
      },
      "outputs": [],
      "source": [
        "#gráfico dos 20 filmes com melhor nota com relação aos atores principais\n",
        "plt.figure(figsize=(10,8))\n",
        "\n",
        "df= df.sort_values(by ='imdb_score' , ascending=False)\n",
        "df2=df.head(20)\n",
        "ax=sns.pointplot(df2['actor_1_name'], df2['imdb_score'], hue=df2['movie_title'])\n",
        "ax.set_xticklabels(ax.get_xticklabels(), rotation=40, ha=\"right\")\n",
        "plt.tight_layout()\n",
        "plt.show()"
      ]
    },
    {
      "cell_type": "code",
      "source": [
        "n, bins, patches = plt.hist(df['duration'], bins=50)\n",
        "plt.xlabel('Duração do Filme')\n",
        "plt.ylabel('Número de Filmes')\n",
        "plt.show()"
      ],
      "metadata": {
        "id": "j9oh-aV1diXE"
      },
      "execution_count": null,
      "outputs": []
    },
    {
      "cell_type": "code",
      "source": [
        "n, bins, patches = plt.hist(df['imdb_score'], bins=50)\n",
        "plt.xlabel('Nota do Filme')\n",
        "plt.ylabel('Número de Filmes')\n",
        "plt.show()\n"
      ],
      "metadata": {
        "id": "B5JH_n1geCdG"
      },
      "execution_count": null,
      "outputs": []
    },
    {
      "cell_type": "code",
      "source": [
        "#outra forma de verificar a distribuição dos dados de score\n",
        "plt.boxplot(df['imdb_score'])"
      ],
      "metadata": {
        "id": "Fzeu87iEiyLG"
      },
      "execution_count": null,
      "outputs": []
    },
    {
      "cell_type": "markdown",
      "metadata": {
        "id": "IQcAuaEcLt_g"
      },
      "source": [
        "## Preparação dos dados"
      ]
    },
    {
      "cell_type": "code",
      "execution_count": null,
      "metadata": {
        "id": "I66DIAtKLt_g"
      },
      "outputs": [],
      "source": [
        "#retirando algumas colunas com dados categóricos\n",
        "df.drop(columns=['director_name', 'actor_1_name', 'actor_2_name', \n",
        "                 'actor_3_name', 'plot_keywords', 'movie_title'], axis=1, inplace=True)"
      ]
    },
    {
      "cell_type": "code",
      "execution_count": null,
      "metadata": {
        "id": "1db-iREbLt_h"
      },
      "outputs": [],
      "source": [
        "#verificando os valores da coluna 'genre'\n",
        "df['genres'].value_counts()"
      ]
    },
    {
      "cell_type": "code",
      "execution_count": null,
      "metadata": {
        "id": "3ISZdtd8Lt_h"
      },
      "outputs": [],
      "source": [
        "#retirando a coluna 'genres'\n",
        "df.drop('genres', axis=1, inplace=True)"
      ]
    },
    {
      "cell_type": "code",
      "execution_count": null,
      "metadata": {
        "id": "4oI2e5kALt_h"
      },
      "outputs": [],
      "source": [
        "#retirando a coluna criada\n",
        "df.drop(columns=['Profit'], axis=1, inplace=True)"
      ]
    },
    {
      "cell_type": "code",
      "source": [
        "#verificando se existem colunas fortemente correlacionadas\n",
        "import numpy as np\n",
        "corr = df.corr()\n",
        "sns.set_context(\"notebook\", font_scale=1.0, rc={\"lines.linewidth\": 2.0})\n",
        "plt.figure(figsize=(20,10))\n",
        "mask = np.zeros_like(corr)\n",
        "mask[np.triu_indices_from(mask, 1)] = True\n",
        "a = sns.heatmap(corr,mask=mask, annot=True, fmt='.2f')\n",
        "rotx = a.set_xticklabels(a.get_xticklabels(), rotation=90)\n",
        "roty = a.set_yticklabels(a.get_yticklabels(), rotation=30)"
      ],
      "metadata": {
        "id": "QhgzoLQjlCwT"
      },
      "execution_count": null,
      "outputs": []
    },
    {
      "cell_type": "code",
      "execution_count": null,
      "metadata": {
        "id": "xFCTdQL6Lt_h"
      },
      "outputs": [],
      "source": [
        "#criando uma nova coluna combinando as duas colunas muito correlacionadas\n",
        "df['Other_actors_facebook_likes'] = df['actor_2_facebook_likes'] + df['actor_3_facebook_likes']"
      ]
    },
    {
      "cell_type": "code",
      "execution_count": null,
      "metadata": {
        "id": "iS60lKVBLt_i"
      },
      "outputs": [],
      "source": [
        "#removendo as colunas\n",
        "df.drop(columns=['actor_2_facebook_likes', 'actor_3_facebook_likes',\n",
        "                 'cast_total_facebook_likes'], axis=1, inplace=True)"
      ]
    },
    {
      "cell_type": "code",
      "execution_count": null,
      "metadata": {
        "id": "2LNJOT1VLt_i"
      },
      "outputs": [],
      "source": [
        "#criando uma nova coluna combinando as duas colunas muito correlacionadas\n",
        "\n",
        "df['critic_review_ratio'] = df['num_critic_for_reviews']/df['num_user_for_reviews']"
      ]
    },
    {
      "cell_type": "code",
      "execution_count": null,
      "metadata": {
        "id": "H4bAuiyeLt_i"
      },
      "outputs": [],
      "source": [
        "#removendo as colunas\n",
        "df.drop(columns=['num_critic_for_reviews', 'num_user_for_reviews'], axis=1, inplace=True)"
      ]
    },
    {
      "cell_type": "code",
      "execution_count": null,
      "metadata": {
        "id": "mIsbC7omLt_i"
      },
      "outputs": [],
      "source": [
        "#verificando se ainda existem colunas fortemente correlacionadas\n",
        "\n",
        "corr = df.corr()\n",
        "sns.set_context(\"notebook\", font_scale=1.0, rc={\"lines.linewidth\": 2.5})\n",
        "plt.figure(figsize=(13,7))\n",
        "mask = np.zeros_like(corr)\n",
        "mask[np.triu_indices_from(mask, 1)] = True\n",
        "a = sns.heatmap(corr,mask=mask, annot=True, fmt='.2f')\n",
        "rotx = a.set_xticklabels(a.get_xticklabels(), rotation=90)\n",
        "roty = a.set_yticklabels(a.get_yticklabels(), rotation=30)"
      ]
    },
    {
      "cell_type": "code",
      "execution_count": null,
      "metadata": {
        "id": "XjtpFGqkLt_i"
      },
      "outputs": [],
      "source": [
        "#categorizando os valores de nota do imdb\n",
        "df['imdb_binned_score']=pd.cut(df['imdb_score'], bins=[0,4,6,8,10], right=True, labels=False)+1"
      ]
    },
    {
      "cell_type": "code",
      "source": [
        "df['imdb_score'].value_counts()"
      ],
      "metadata": {
        "id": "RJf5SsNrpJuh"
      },
      "execution_count": null,
      "outputs": []
    },
    {
      "cell_type": "code",
      "source": [
        "df['imdb_binned_score'].value_counts()"
      ],
      "metadata": {
        "id": "zD6Mv6cNpBMF"
      },
      "execution_count": null,
      "outputs": []
    },
    {
      "cell_type": "code",
      "execution_count": null,
      "metadata": {
        "id": "kqMv0vbALt_i"
      },
      "outputs": [],
      "source": [
        "df.head()"
      ]
    },
    {
      "cell_type": "code",
      "execution_count": null,
      "metadata": {
        "id": "bhrxiG52Lt_i"
      },
      "outputs": [],
      "source": [
        "#criando novas colunas para transformar os valores categóricos de 'content rating' (classificação indicativa)\n",
        "#em valores numéricos\n",
        "df = pd.get_dummies(data = df, columns=['content_rating'], prefix=['content_rating'], drop_first=True)"
      ]
    },
    {
      "cell_type": "code",
      "execution_count": null,
      "metadata": {
        "id": "fhVY4hUDLt_i"
      },
      "outputs": [],
      "source": [
        "df.head()"
      ]
    },
    {
      "cell_type": "code",
      "execution_count": null,
      "metadata": {
        "id": "gGVWbR9BLt_j"
      },
      "outputs": [],
      "source": [
        "df.to_csv('dados_imdb_com_nota.csv', index=False)"
      ]
    },
    {
      "cell_type": "code",
      "execution_count": null,
      "metadata": {
        "id": "2r26dCDMLt_j"
      },
      "outputs": [],
      "source": [
        "#escolhendo as colunas do dataframe que serão nossos valores de entrada para o modelo\n",
        "X=pd.DataFrame(columns=['duration','director_facebook_likes','actor_1_facebook_likes','gross',\n",
        "                        'num_voted_users','facenumber_in_poster','budget','title_year','aspect_ratio',\n",
        "                        'movie_facebook_likes','Other_actors_facebook_likes','critic_review_ratio',\n",
        "                        'content_rating_G','content_rating_GP',\n",
        "                        'content_rating_M','content_rating_NC-17','content_rating_Not Rated',\n",
        "                        'content_rating_PG','content_rating_PG-13','content_rating_Passed',\n",
        "                        'content_rating_R','content_rating_TV-14','content_rating_TV-G',\n",
        "                        'content_rating_TV-PG','content_rating_Unrated','content_rating_X'],data=df)"
      ]
    },
    {
      "cell_type": "code",
      "execution_count": null,
      "metadata": {
        "id": "eX_QabVOLt_j"
      },
      "outputs": [],
      "source": [
        "#escolhendo a(s) coluna(s) do dataframe que serão a resposta do modelo\n",
        "y = pd.DataFrame(columns=['imdb_binned_score'], data=df)"
      ]
    }
  ],
  "metadata": {
    "kernelspec": {
      "display_name": "Python 3 (ipykernel)",
      "language": "python",
      "name": "python3"
    },
    "language_info": {
      "codemirror_mode": {
        "name": "ipython",
        "version": 3
      },
      "file_extension": ".py",
      "mimetype": "text/x-python",
      "name": "python",
      "nbconvert_exporter": "python",
      "pygments_lexer": "ipython3",
      "version": "3.8.10"
    },
    "colab": {
      "name": "BootCamp MIA - Aula 3 - Análise Exploratória de Dados - Alunas",
      "provenance": [],
      "collapsed_sections": [
        "6pVYG3i7Lt_f",
        "IQcAuaEcLt_g"
      ]
    }
  },
  "nbformat": 4,
  "nbformat_minor": 0
}
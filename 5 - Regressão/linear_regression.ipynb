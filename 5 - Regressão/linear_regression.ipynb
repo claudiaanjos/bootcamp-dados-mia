{
  "cells": [
    {
      "cell_type": "markdown",
      "metadata": {
        "id": "DisnuN4x6SkL"
      },
      "source": [
        "# Regressão Linear "
      ]
    },
    {
      "cell_type": "markdown",
      "metadata": {
        "id": "47eifOA36SkN"
      },
      "source": [
        "![](https://miro.medium.com/max/482/1*D6s2K1y7kjE14swcgITB1w.png)"
      ]
    },
    {
      "cell_type": "markdown",
      "metadata": {
        "id": "1ZFcjxgF6SkO"
      },
      "source": [
        "### **Você sabe quanto vale o imóvel em que você mora? Como você faria para predizer esse valor?**"
      ]
    },
    {
      "cell_type": "markdown",
      "metadata": {
        "id": "fuw6FvaC6SkO"
      },
      "source": [
        "![](https://media.giphy.com/media/eoje0OqGEx5Oo/giphy.gif)"
      ]
    },
    {
      "cell_type": "markdown",
      "metadata": {
        "id": "lXZldhYq6SkP"
      },
      "source": [
        "O que _**prever o valor de um imóvel**_ tem em comum com prever...\n",
        "- a renda de uma pessoa\n",
        "- a quantidade de vendas de uma loja\n",
        "- o número de leads de uma empresa\n",
        "\n",
        "?"
      ]
    },
    {
      "cell_type": "markdown",
      "metadata": {
        "id": "yc6KF99j6SkP"
      },
      "source": [
        "Para todos esses problemas, o objetivo é **predizer um valor contínuo**. Esses são problemas de **REGRESSÃO**!\n",
        "\n",
        "Regressão é um tipo de tarefa de aprendizado supervisionado, no qual treinamos um modelo de Machine Learning com um conjunto de dados rotulado:"
      ]
    },
    {
      "cell_type": "markdown",
      "metadata": {
        "id": "z50BUc8M6SkP"
      },
      "source": [
        "<img src=\"https://i.vas3k.ru/7vx.jpg\" width=\"500\"/>\n",
        "\n",
        "(Diagrama retirado [daqui](https://vas3k.com/blog/machine_learning/))"
      ]
    },
    {
      "cell_type": "markdown",
      "metadata": {
        "id": "MApLo-E66SkQ"
      },
      "source": [
        "Existem diversos algoritmos para resolver esses problemas de regressão. Um deles é a Regressão Linear:"
      ]
    },
    {
      "cell_type": "markdown",
      "metadata": {
        "id": "2oVfcESP6SkQ"
      },
      "source": [
        "<tr>\n",
        "    <td> <img src=\"https://image.slidesharecdn.com/8-1209490505240696-9/95/multiple-linear-regression-16-638.jpg?cb=1489720634\" width=\"450\"/></td>\n",
        "    <td> <img src=\"https://cdn-images-1.medium.com/max/1600/1*eeIvlwkMNG1wSmj3FR6M2g.gif\" width=\"450\" /> </td>\n",
        "</tr>    "
      ]
    },
    {
      "cell_type": "markdown",
      "metadata": {
        "id": "9gw57Csk6SkR"
      },
      "source": [
        "Mas como a regressão linear encontra essa curva que melhor explica a relação entre uma feature e o target?"
      ]
    },
    {
      "cell_type": "markdown",
      "metadata": {
        "id": "B66Q3ASF6SkS"
      },
      "source": [
        "Ela usa um método chamado de Ordinary Least Squares (OLS), no qual a melhor curva será aquela que produzir a menor soma de erros quadrados. Mais detalhes sobre esse método podem ser encontrado [aqui](https://towardsdatascience.com/understanding-the-ols-method-for-simple-linear-regression-e0a4e8f692cc) (esse artigo menciona algumas suposições feitas pela regressão linear, como a [homocedasticidade](https://www3.nd.edu/~rwilliam/stats2/l25.pdf))."
      ]
    },
    {
      "cell_type": "markdown",
      "metadata": {
        "id": "8SYKDLV76SkS"
      },
      "source": [
        "## Exemplo - predição do valor de uma corrida de táxi"
      ]
    },
    {
      "cell_type": "markdown",
      "metadata": {
        "id": "IqLYGmif6SkS"
      },
      "source": [
        "<img src=\"https://media.giphy.com/media/eKt8k3KQLRSFbP4v3f/giphy.gif\" width=\"300\"/>"
      ]
    },
    {
      "cell_type": "markdown",
      "metadata": {
        "id": "zq7X4FyQ6SkS"
      },
      "source": [
        "Vamos usar a regressão linear para predizer o valor a ser pago em uma corrida de táxi."
      ]
    },
    {
      "cell_type": "markdown",
      "metadata": {
        "id": "RtB6D7ds6SkT"
      },
      "source": [
        "## Bibliotecas auxiliares"
      ]
    },
    {
      "cell_type": "code",
      "execution_count": null,
      "metadata": {
        "id": "P1QWC13e6SkT"
      },
      "outputs": [],
      "source": [
        "import pandas as pd\n",
        "import matplotlib.pyplot as plt\n",
        "from sklearn.model_selection import train_test_split\n",
        "import seaborn as sns\n",
        "import numpy as np"
      ]
    },
    {
      "cell_type": "code",
      "execution_count": null,
      "metadata": {
        "id": "_vVOhfXo6SkU"
      },
      "outputs": [],
      "source": [
        "import warnings\n",
        "warnings.simplefilter(action='ignore')"
      ]
    },
    {
      "cell_type": "markdown",
      "metadata": {
        "id": "qoPc9Ain6SkU"
      },
      "source": [
        "O nosso conjunto de dados contém as corridas de táxi da cidade de New York:"
      ]
    },
    {
      "cell_type": "code",
      "execution_count": null,
      "metadata": {
        "id": "Lb4x3g4Q6SkU"
      },
      "outputs": [],
      "source": [
        "df = pd.read_csv(\"dataset.csv\")"
      ]
    },
    {
      "cell_type": "code",
      "execution_count": null,
      "metadata": {
        "colab": {
          "base_uri": "https://localhost:8080/"
        },
        "id": "_Bv3BJpD6SkU",
        "outputId": "774493c3-cfdf-4d9f-f433-058bc9a847a2"
      },
      "outputs": [
        {
          "output_type": "execute_result",
          "data": {
            "text/plain": [
              "(1000000, 8)"
            ]
          },
          "metadata": {},
          "execution_count": 4
        }
      ],
      "source": [
        "df.shape"
      ]
    },
    {
      "cell_type": "markdown",
      "metadata": {
        "id": "O1qWlRN66SkV"
      },
      "source": [
        "#### Descrição do conjunto de dados\n",
        "\n",
        "|Campo            | Descrição                                                  |\n",
        "|-----------------|------------------------------------------------------------|\n",
        "|key              |chave única indicando cada exemplo                          |\n",
        "|**fare_amount**  |valor, em doláres, indicando o valor pago na corrida de táxi|\n",
        "|pickup_datetime  |timestamp indicando quando a corrida começou                |\n",
        "|pickup_longitude |longitude na qual a corrida de táxi começou                 |\n",
        "|pickup_latitude  |latitude na qual a corrida de táxi começou                  |\n",
        "|dropoff_longitude|longitude na qual a corrida de táxi acabou                  |\n",
        "|dropoff_latitude |latitude na qual a corrida de táxi acabou                   |\n",
        "|passenger_count  |número de passageiros                                       |"
      ]
    },
    {
      "cell_type": "code",
      "execution_count": null,
      "metadata": {
        "colab": {
          "base_uri": "https://localhost:8080/",
          "height": 191
        },
        "id": "Bkz1IS-x6SkV",
        "outputId": "922770a9-9d80-4f05-cb9e-41f20732c55a"
      },
      "outputs": [
        {
          "output_type": "execute_result",
          "data": {
            "text/plain": [
              "                           key  fare_amount          pickup_datetime  \\\n",
              "0  2009-06-15 17:26:21.0000001          4.5  2009-06-15 17:26:21 UTC   \n",
              "1  2010-01-05 16:52:16.0000002         16.9  2010-01-05 16:52:16 UTC   \n",
              "\n",
              "   pickup_longitude  pickup_latitude  dropoff_longitude  dropoff_latitude  \\\n",
              "0        -73.844311        40.721319         -73.841610         40.712278   \n",
              "1        -74.016048        40.711303         -73.979268         40.782004   \n",
              "\n",
              "   passenger_count  \n",
              "0                1  \n",
              "1                1  "
            ],
            "text/html": [
              "\n",
              "  <div id=\"df-42f4c074-ff25-4a74-b01b-a53ce502588f\">\n",
              "    <div class=\"colab-df-container\">\n",
              "      <div>\n",
              "<style scoped>\n",
              "    .dataframe tbody tr th:only-of-type {\n",
              "        vertical-align: middle;\n",
              "    }\n",
              "\n",
              "    .dataframe tbody tr th {\n",
              "        vertical-align: top;\n",
              "    }\n",
              "\n",
              "    .dataframe thead th {\n",
              "        text-align: right;\n",
              "    }\n",
              "</style>\n",
              "<table border=\"1\" class=\"dataframe\">\n",
              "  <thead>\n",
              "    <tr style=\"text-align: right;\">\n",
              "      <th></th>\n",
              "      <th>key</th>\n",
              "      <th>fare_amount</th>\n",
              "      <th>pickup_datetime</th>\n",
              "      <th>pickup_longitude</th>\n",
              "      <th>pickup_latitude</th>\n",
              "      <th>dropoff_longitude</th>\n",
              "      <th>dropoff_latitude</th>\n",
              "      <th>passenger_count</th>\n",
              "    </tr>\n",
              "  </thead>\n",
              "  <tbody>\n",
              "    <tr>\n",
              "      <th>0</th>\n",
              "      <td>2009-06-15 17:26:21.0000001</td>\n",
              "      <td>4.5</td>\n",
              "      <td>2009-06-15 17:26:21 UTC</td>\n",
              "      <td>-73.844311</td>\n",
              "      <td>40.721319</td>\n",
              "      <td>-73.841610</td>\n",
              "      <td>40.712278</td>\n",
              "      <td>1</td>\n",
              "    </tr>\n",
              "    <tr>\n",
              "      <th>1</th>\n",
              "      <td>2010-01-05 16:52:16.0000002</td>\n",
              "      <td>16.9</td>\n",
              "      <td>2010-01-05 16:52:16 UTC</td>\n",
              "      <td>-74.016048</td>\n",
              "      <td>40.711303</td>\n",
              "      <td>-73.979268</td>\n",
              "      <td>40.782004</td>\n",
              "      <td>1</td>\n",
              "    </tr>\n",
              "  </tbody>\n",
              "</table>\n",
              "</div>\n",
              "      <button class=\"colab-df-convert\" onclick=\"convertToInteractive('df-42f4c074-ff25-4a74-b01b-a53ce502588f')\"\n",
              "              title=\"Convert this dataframe to an interactive table.\"\n",
              "              style=\"display:none;\">\n",
              "        \n",
              "  <svg xmlns=\"http://www.w3.org/2000/svg\" height=\"24px\"viewBox=\"0 0 24 24\"\n",
              "       width=\"24px\">\n",
              "    <path d=\"M0 0h24v24H0V0z\" fill=\"none\"/>\n",
              "    <path d=\"M18.56 5.44l.94 2.06.94-2.06 2.06-.94-2.06-.94-.94-2.06-.94 2.06-2.06.94zm-11 1L8.5 8.5l.94-2.06 2.06-.94-2.06-.94L8.5 2.5l-.94 2.06-2.06.94zm10 10l.94 2.06.94-2.06 2.06-.94-2.06-.94-.94-2.06-.94 2.06-2.06.94z\"/><path d=\"M17.41 7.96l-1.37-1.37c-.4-.4-.92-.59-1.43-.59-.52 0-1.04.2-1.43.59L10.3 9.45l-7.72 7.72c-.78.78-.78 2.05 0 2.83L4 21.41c.39.39.9.59 1.41.59.51 0 1.02-.2 1.41-.59l7.78-7.78 2.81-2.81c.8-.78.8-2.07 0-2.86zM5.41 20L4 18.59l7.72-7.72 1.47 1.35L5.41 20z\"/>\n",
              "  </svg>\n",
              "      </button>\n",
              "      \n",
              "  <style>\n",
              "    .colab-df-container {\n",
              "      display:flex;\n",
              "      flex-wrap:wrap;\n",
              "      gap: 12px;\n",
              "    }\n",
              "\n",
              "    .colab-df-convert {\n",
              "      background-color: #E8F0FE;\n",
              "      border: none;\n",
              "      border-radius: 50%;\n",
              "      cursor: pointer;\n",
              "      display: none;\n",
              "      fill: #1967D2;\n",
              "      height: 32px;\n",
              "      padding: 0 0 0 0;\n",
              "      width: 32px;\n",
              "    }\n",
              "\n",
              "    .colab-df-convert:hover {\n",
              "      background-color: #E2EBFA;\n",
              "      box-shadow: 0px 1px 2px rgba(60, 64, 67, 0.3), 0px 1px 3px 1px rgba(60, 64, 67, 0.15);\n",
              "      fill: #174EA6;\n",
              "    }\n",
              "\n",
              "    [theme=dark] .colab-df-convert {\n",
              "      background-color: #3B4455;\n",
              "      fill: #D2E3FC;\n",
              "    }\n",
              "\n",
              "    [theme=dark] .colab-df-convert:hover {\n",
              "      background-color: #434B5C;\n",
              "      box-shadow: 0px 1px 3px 1px rgba(0, 0, 0, 0.15);\n",
              "      filter: drop-shadow(0px 1px 2px rgba(0, 0, 0, 0.3));\n",
              "      fill: #FFFFFF;\n",
              "    }\n",
              "  </style>\n",
              "\n",
              "      <script>\n",
              "        const buttonEl =\n",
              "          document.querySelector('#df-42f4c074-ff25-4a74-b01b-a53ce502588f button.colab-df-convert');\n",
              "        buttonEl.style.display =\n",
              "          google.colab.kernel.accessAllowed ? 'block' : 'none';\n",
              "\n",
              "        async function convertToInteractive(key) {\n",
              "          const element = document.querySelector('#df-42f4c074-ff25-4a74-b01b-a53ce502588f');\n",
              "          const dataTable =\n",
              "            await google.colab.kernel.invokeFunction('convertToInteractive',\n",
              "                                                     [key], {});\n",
              "          if (!dataTable) return;\n",
              "\n",
              "          const docLinkHtml = 'Like what you see? Visit the ' +\n",
              "            '<a target=\"_blank\" href=https://colab.research.google.com/notebooks/data_table.ipynb>data table notebook</a>'\n",
              "            + ' to learn more about interactive tables.';\n",
              "          element.innerHTML = '';\n",
              "          dataTable['output_type'] = 'display_data';\n",
              "          await google.colab.output.renderOutput(dataTable, element);\n",
              "          const docLink = document.createElement('div');\n",
              "          docLink.innerHTML = docLinkHtml;\n",
              "          element.appendChild(docLink);\n",
              "        }\n",
              "      </script>\n",
              "    </div>\n",
              "  </div>\n",
              "  "
            ]
          },
          "metadata": {},
          "execution_count": 5
        }
      ],
      "source": [
        "df.head(2)"
      ]
    },
    {
      "cell_type": "code",
      "execution_count": null,
      "metadata": {
        "colab": {
          "base_uri": "https://localhost:8080/"
        },
        "id": "hE1Ms2qW6SkW",
        "outputId": "ec599206-baba-45e4-a505-9f2ef11c6225"
      },
      "outputs": [
        {
          "output_type": "stream",
          "name": "stdout",
          "text": [
            "<class 'pandas.core.frame.DataFrame'>\n",
            "RangeIndex: 1000000 entries, 0 to 999999\n",
            "Data columns (total 8 columns):\n",
            " #   Column             Non-Null Count    Dtype  \n",
            "---  ------             --------------    -----  \n",
            " 0   key                1000000 non-null  object \n",
            " 1   fare_amount        1000000 non-null  float64\n",
            " 2   pickup_datetime    1000000 non-null  object \n",
            " 3   pickup_longitude   1000000 non-null  float64\n",
            " 4   pickup_latitude    1000000 non-null  float64\n",
            " 5   dropoff_longitude  999990 non-null   float64\n",
            " 6   dropoff_latitude   999990 non-null   float64\n",
            " 7   passenger_count    1000000 non-null  int64  \n",
            "dtypes: float64(5), int64(1), object(2)\n",
            "memory usage: 61.0+ MB\n"
          ]
        }
      ],
      "source": [
        "df.info()"
      ]
    },
    {
      "cell_type": "markdown",
      "metadata": {
        "id": "w0pAZXzs6SkW"
      },
      "source": [
        "Apenas observando essas features, quais vocês acham que podem nos ajudar a predizer o valor da corrida? Podemos criar alguma feature nova a partir delas?"
      ]
    },
    {
      "cell_type": "markdown",
      "metadata": {
        "id": "U4khBIyg6SkW"
      },
      "source": [
        "## Análise exploratória e Feature engineering"
      ]
    },
    {
      "cell_type": "markdown",
      "metadata": {
        "id": "m7dBxTx56SkW"
      },
      "source": [
        "### Valores faltantes"
      ]
    },
    {
      "cell_type": "markdown",
      "metadata": {
        "id": "nNsSNYYG6SkW"
      },
      "source": [
        "Como tínhamos visto anteriomente, são poucos os casos de valores faltantes em nosso conjunto de dados. \n",
        "Nesse caso, vamos simplesmente excluir esses exemplos:"
      ]
    },
    {
      "cell_type": "code",
      "execution_count": null,
      "metadata": {
        "colab": {
          "base_uri": "https://localhost:8080/"
        },
        "id": "7GlRvfSF6SkX",
        "outputId": "5f0892a0-e842-4e35-e116-538ad532ca64"
      },
      "outputs": [
        {
          "output_type": "stream",
          "name": "stdout",
          "text": [
            "Tamanho conjunto de dados (antes da remoção de valores faltantes): 1000000\n",
            "Tamanho conjunto de dados (depois da remoção de valores faltantes): 999990\n"
          ]
        }
      ],
      "source": [
        "print(f'Tamanho conjunto de dados (antes da remoção de valores faltantes): {len(df)}')\n",
        "df.dropna(inplace=True)\n",
        "print(f'Tamanho conjunto de dados (depois da remoção de valores faltantes): {len(df)}')"
      ]
    },
    {
      "cell_type": "markdown",
      "metadata": {
        "id": "lFGFVG526SkX"
      },
      "source": [
        "### Distribuição das features"
      ]
    },
    {
      "cell_type": "code",
      "execution_count": null,
      "metadata": {
        "colab": {
          "base_uri": "https://localhost:8080/",
          "height": 344
        },
        "id": "K0P8BQsZ6SkX",
        "outputId": "009ba91e-8dd0-4ac2-d7b3-9da558cfd8ad"
      },
      "outputs": [
        {
          "output_type": "execute_result",
          "data": {
            "text/plain": [
              "                      count  unique                          top freq  \\\n",
              "key                  999990  999990  2009-06-15 17:26:21.0000001    1   \n",
              "fare_amount        999990.0     NaN                          NaN  NaN   \n",
              "pickup_datetime      999990  861747      2010-02-13 19:28:00 UTC    9   \n",
              "pickup_longitude   999990.0     NaN                          NaN  NaN   \n",
              "pickup_latitude    999990.0     NaN                          NaN  NaN   \n",
              "dropoff_longitude  999990.0     NaN                          NaN  NaN   \n",
              "dropoff_latitude   999990.0     NaN                          NaN  NaN   \n",
              "passenger_count    999990.0     NaN                          NaN  NaN   \n",
              "\n",
              "                        mean        std          min        25%        50%  \\\n",
              "key                      NaN        NaN          NaN        NaN        NaN   \n",
              "fare_amount        11.347953    9.82179        -44.9        6.0        8.5   \n",
              "pickup_datetime          NaN        NaN          NaN        NaN        NaN   \n",
              "pickup_longitude  -72.526699  12.057778 -3377.680935  -73.99206 -73.981792   \n",
              "pickup_latitude     39.92904   7.626087 -3116.285383  40.734965  40.752695   \n",
              "dropoff_longitude  -72.52786  11.324494 -3383.296608 -73.991385 -73.980135   \n",
              "dropoff_latitude   39.919954   8.201418 -3114.338567  40.734046  40.753166   \n",
              "passenger_count     1.684941   1.323907          0.0        1.0        1.0   \n",
              "\n",
              "                         75%          max  \n",
              "key                      NaN          NaN  \n",
              "fare_amount             12.5        500.0  \n",
              "pickup_datetime          NaN          NaN  \n",
              "pickup_longitude  -73.967094  2522.271325  \n",
              "pickup_latitude    40.767154   2621.62843  \n",
              "dropoff_longitude -73.963654    45.581619  \n",
              "dropoff_latitude   40.768129  1651.553433  \n",
              "passenger_count          2.0        208.0  "
            ],
            "text/html": [
              "\n",
              "  <div id=\"df-5114d20d-5942-4089-94c9-400478a52746\">\n",
              "    <div class=\"colab-df-container\">\n",
              "      <div>\n",
              "<style scoped>\n",
              "    .dataframe tbody tr th:only-of-type {\n",
              "        vertical-align: middle;\n",
              "    }\n",
              "\n",
              "    .dataframe tbody tr th {\n",
              "        vertical-align: top;\n",
              "    }\n",
              "\n",
              "    .dataframe thead th {\n",
              "        text-align: right;\n",
              "    }\n",
              "</style>\n",
              "<table border=\"1\" class=\"dataframe\">\n",
              "  <thead>\n",
              "    <tr style=\"text-align: right;\">\n",
              "      <th></th>\n",
              "      <th>count</th>\n",
              "      <th>unique</th>\n",
              "      <th>top</th>\n",
              "      <th>freq</th>\n",
              "      <th>mean</th>\n",
              "      <th>std</th>\n",
              "      <th>min</th>\n",
              "      <th>25%</th>\n",
              "      <th>50%</th>\n",
              "      <th>75%</th>\n",
              "      <th>max</th>\n",
              "    </tr>\n",
              "  </thead>\n",
              "  <tbody>\n",
              "    <tr>\n",
              "      <th>key</th>\n",
              "      <td>999990</td>\n",
              "      <td>999990</td>\n",
              "      <td>2009-06-15 17:26:21.0000001</td>\n",
              "      <td>1</td>\n",
              "      <td>NaN</td>\n",
              "      <td>NaN</td>\n",
              "      <td>NaN</td>\n",
              "      <td>NaN</td>\n",
              "      <td>NaN</td>\n",
              "      <td>NaN</td>\n",
              "      <td>NaN</td>\n",
              "    </tr>\n",
              "    <tr>\n",
              "      <th>fare_amount</th>\n",
              "      <td>999990.0</td>\n",
              "      <td>NaN</td>\n",
              "      <td>NaN</td>\n",
              "      <td>NaN</td>\n",
              "      <td>11.347953</td>\n",
              "      <td>9.82179</td>\n",
              "      <td>-44.9</td>\n",
              "      <td>6.0</td>\n",
              "      <td>8.5</td>\n",
              "      <td>12.5</td>\n",
              "      <td>500.0</td>\n",
              "    </tr>\n",
              "    <tr>\n",
              "      <th>pickup_datetime</th>\n",
              "      <td>999990</td>\n",
              "      <td>861747</td>\n",
              "      <td>2010-02-13 19:28:00 UTC</td>\n",
              "      <td>9</td>\n",
              "      <td>NaN</td>\n",
              "      <td>NaN</td>\n",
              "      <td>NaN</td>\n",
              "      <td>NaN</td>\n",
              "      <td>NaN</td>\n",
              "      <td>NaN</td>\n",
              "      <td>NaN</td>\n",
              "    </tr>\n",
              "    <tr>\n",
              "      <th>pickup_longitude</th>\n",
              "      <td>999990.0</td>\n",
              "      <td>NaN</td>\n",
              "      <td>NaN</td>\n",
              "      <td>NaN</td>\n",
              "      <td>-72.526699</td>\n",
              "      <td>12.057778</td>\n",
              "      <td>-3377.680935</td>\n",
              "      <td>-73.99206</td>\n",
              "      <td>-73.981792</td>\n",
              "      <td>-73.967094</td>\n",
              "      <td>2522.271325</td>\n",
              "    </tr>\n",
              "    <tr>\n",
              "      <th>pickup_latitude</th>\n",
              "      <td>999990.0</td>\n",
              "      <td>NaN</td>\n",
              "      <td>NaN</td>\n",
              "      <td>NaN</td>\n",
              "      <td>39.92904</td>\n",
              "      <td>7.626087</td>\n",
              "      <td>-3116.285383</td>\n",
              "      <td>40.734965</td>\n",
              "      <td>40.752695</td>\n",
              "      <td>40.767154</td>\n",
              "      <td>2621.62843</td>\n",
              "    </tr>\n",
              "    <tr>\n",
              "      <th>dropoff_longitude</th>\n",
              "      <td>999990.0</td>\n",
              "      <td>NaN</td>\n",
              "      <td>NaN</td>\n",
              "      <td>NaN</td>\n",
              "      <td>-72.52786</td>\n",
              "      <td>11.324494</td>\n",
              "      <td>-3383.296608</td>\n",
              "      <td>-73.991385</td>\n",
              "      <td>-73.980135</td>\n",
              "      <td>-73.963654</td>\n",
              "      <td>45.581619</td>\n",
              "    </tr>\n",
              "    <tr>\n",
              "      <th>dropoff_latitude</th>\n",
              "      <td>999990.0</td>\n",
              "      <td>NaN</td>\n",
              "      <td>NaN</td>\n",
              "      <td>NaN</td>\n",
              "      <td>39.919954</td>\n",
              "      <td>8.201418</td>\n",
              "      <td>-3114.338567</td>\n",
              "      <td>40.734046</td>\n",
              "      <td>40.753166</td>\n",
              "      <td>40.768129</td>\n",
              "      <td>1651.553433</td>\n",
              "    </tr>\n",
              "    <tr>\n",
              "      <th>passenger_count</th>\n",
              "      <td>999990.0</td>\n",
              "      <td>NaN</td>\n",
              "      <td>NaN</td>\n",
              "      <td>NaN</td>\n",
              "      <td>1.684941</td>\n",
              "      <td>1.323907</td>\n",
              "      <td>0.0</td>\n",
              "      <td>1.0</td>\n",
              "      <td>1.0</td>\n",
              "      <td>2.0</td>\n",
              "      <td>208.0</td>\n",
              "    </tr>\n",
              "  </tbody>\n",
              "</table>\n",
              "</div>\n",
              "      <button class=\"colab-df-convert\" onclick=\"convertToInteractive('df-5114d20d-5942-4089-94c9-400478a52746')\"\n",
              "              title=\"Convert this dataframe to an interactive table.\"\n",
              "              style=\"display:none;\">\n",
              "        \n",
              "  <svg xmlns=\"http://www.w3.org/2000/svg\" height=\"24px\"viewBox=\"0 0 24 24\"\n",
              "       width=\"24px\">\n",
              "    <path d=\"M0 0h24v24H0V0z\" fill=\"none\"/>\n",
              "    <path d=\"M18.56 5.44l.94 2.06.94-2.06 2.06-.94-2.06-.94-.94-2.06-.94 2.06-2.06.94zm-11 1L8.5 8.5l.94-2.06 2.06-.94-2.06-.94L8.5 2.5l-.94 2.06-2.06.94zm10 10l.94 2.06.94-2.06 2.06-.94-2.06-.94-.94-2.06-.94 2.06-2.06.94z\"/><path d=\"M17.41 7.96l-1.37-1.37c-.4-.4-.92-.59-1.43-.59-.52 0-1.04.2-1.43.59L10.3 9.45l-7.72 7.72c-.78.78-.78 2.05 0 2.83L4 21.41c.39.39.9.59 1.41.59.51 0 1.02-.2 1.41-.59l7.78-7.78 2.81-2.81c.8-.78.8-2.07 0-2.86zM5.41 20L4 18.59l7.72-7.72 1.47 1.35L5.41 20z\"/>\n",
              "  </svg>\n",
              "      </button>\n",
              "      \n",
              "  <style>\n",
              "    .colab-df-container {\n",
              "      display:flex;\n",
              "      flex-wrap:wrap;\n",
              "      gap: 12px;\n",
              "    }\n",
              "\n",
              "    .colab-df-convert {\n",
              "      background-color: #E8F0FE;\n",
              "      border: none;\n",
              "      border-radius: 50%;\n",
              "      cursor: pointer;\n",
              "      display: none;\n",
              "      fill: #1967D2;\n",
              "      height: 32px;\n",
              "      padding: 0 0 0 0;\n",
              "      width: 32px;\n",
              "    }\n",
              "\n",
              "    .colab-df-convert:hover {\n",
              "      background-color: #E2EBFA;\n",
              "      box-shadow: 0px 1px 2px rgba(60, 64, 67, 0.3), 0px 1px 3px 1px rgba(60, 64, 67, 0.15);\n",
              "      fill: #174EA6;\n",
              "    }\n",
              "\n",
              "    [theme=dark] .colab-df-convert {\n",
              "      background-color: #3B4455;\n",
              "      fill: #D2E3FC;\n",
              "    }\n",
              "\n",
              "    [theme=dark] .colab-df-convert:hover {\n",
              "      background-color: #434B5C;\n",
              "      box-shadow: 0px 1px 3px 1px rgba(0, 0, 0, 0.15);\n",
              "      filter: drop-shadow(0px 1px 2px rgba(0, 0, 0, 0.3));\n",
              "      fill: #FFFFFF;\n",
              "    }\n",
              "  </style>\n",
              "\n",
              "      <script>\n",
              "        const buttonEl =\n",
              "          document.querySelector('#df-5114d20d-5942-4089-94c9-400478a52746 button.colab-df-convert');\n",
              "        buttonEl.style.display =\n",
              "          google.colab.kernel.accessAllowed ? 'block' : 'none';\n",
              "\n",
              "        async function convertToInteractive(key) {\n",
              "          const element = document.querySelector('#df-5114d20d-5942-4089-94c9-400478a52746');\n",
              "          const dataTable =\n",
              "            await google.colab.kernel.invokeFunction('convertToInteractive',\n",
              "                                                     [key], {});\n",
              "          if (!dataTable) return;\n",
              "\n",
              "          const docLinkHtml = 'Like what you see? Visit the ' +\n",
              "            '<a target=\"_blank\" href=https://colab.research.google.com/notebooks/data_table.ipynb>data table notebook</a>'\n",
              "            + ' to learn more about interactive tables.';\n",
              "          element.innerHTML = '';\n",
              "          dataTable['output_type'] = 'display_data';\n",
              "          await google.colab.output.renderOutput(dataTable, element);\n",
              "          const docLink = document.createElement('div');\n",
              "          docLink.innerHTML = docLinkHtml;\n",
              "          element.appendChild(docLink);\n",
              "        }\n",
              "      </script>\n",
              "    </div>\n",
              "  </div>\n",
              "  "
            ]
          },
          "metadata": {},
          "execution_count": 8
        }
      ],
      "source": [
        "df.describe(include='all').T"
      ]
    },
    {
      "cell_type": "markdown",
      "metadata": {
        "id": "GWleXmMU6SkX"
      },
      "source": [
        "Conforme podemos notar acima, há algumas coisas estranhas...Por exemplo, o número máximo de passageiros em uma corrida é de 208!\n",
        "\n",
        "![](https://media.giphy.com/media/yy6hXyy2DsM5W/giphy.gif)\n",
        "\n",
        "Vamos analisar esses casos separadamente para cada uma dessas features:"
      ]
    },
    {
      "cell_type": "markdown",
      "metadata": {
        "id": "rdi3U_6P6SkX"
      },
      "source": [
        "### Análise das features (e do target)"
      ]
    },
    {
      "cell_type": "markdown",
      "metadata": {
        "id": "2haISLt26SkX"
      },
      "source": [
        "**`fare_amount`**"
      ]
    },
    {
      "cell_type": "markdown",
      "metadata": {
        "id": "No2AgoO86SkY"
      },
      "source": [
        "Começando pelo target, podemos ver a sua distribuição:"
      ]
    },
    {
      "cell_type": "code",
      "execution_count": null,
      "metadata": {
        "colab": {
          "base_uri": "https://localhost:8080/",
          "height": 296
        },
        "id": "AqsTH1ES6SkY",
        "outputId": "a8db4a10-11cb-4ea7-91fe-14a39876edba"
      },
      "outputs": [
        {
          "output_type": "display_data",
          "data": {
            "text/plain": [
              "<Figure size 432x288 with 1 Axes>"
            ],
            "image/png": "[encoded data removed]"
          },
          "metadata": {
            "needs_background": "light"
          }
        }
      ],
      "source": [
        "sns.boxplot(df.fare_amount).set_title(\"Distribuição do valor pago pela corrida de táxi (target)\");"
      ]
    },
    {
      "cell_type": "markdown",
      "metadata": {
        "id": "1jkriP2t6SkY"
      },
      "source": [
        "Com esse boxplot e com a distribuição, podemos notar que temos casos de corridas em que o valor pago foi menor do que 1 dólar (até mesmo negativo!). Temos 75 exemplos nessa situação:"
      ]
    },
    {
      "cell_type": "code",
      "execution_count": null,
      "metadata": {
        "colab": {
          "base_uri": "https://localhost:8080/"
        },
        "id": "HFULe-8S6SkY",
        "outputId": "b0e396f7-787b-42a1-fd7a-93f09799efab"
      },
      "outputs": [
        {
          "output_type": "execute_result",
          "data": {
            "text/plain": [
              "75"
            ]
          },
          "metadata": {},
          "execution_count": 10
        }
      ],
      "source": [
        "len(df.loc[(df.fare_amount < 1)])"
      ]
    },
    {
      "cell_type": "markdown",
      "metadata": {
        "id": "4-KFIxVt6SkY"
      },
      "source": [
        "Também podemos notar valores de corridas muito elevados (chegando até 500 dólares!). Esses casos são outliers também, visto que somente em 396 exemplos (de 1 milhão) o valor pago foi acima de 100 doláres:"
      ]
    },
    {
      "cell_type": "code",
      "execution_count": null,
      "metadata": {
        "colab": {
          "base_uri": "https://localhost:8080/"
        },
        "id": "nPHFiO4A6SkY",
        "outputId": "46fb33cf-7bd7-42d5-bcff-22e85319360b"
      },
      "outputs": [
        {
          "output_type": "execute_result",
          "data": {
            "text/plain": [
              "396"
            ]
          },
          "metadata": {},
          "execution_count": 11
        }
      ],
      "source": [
        "len(df.loc[(df.fare_amount > 100)])"
      ]
    },
    {
      "cell_type": "markdown",
      "metadata": {
        "id": "MYd3trsD6SkZ"
      },
      "source": [
        "Vamos remover esses dois casos de exemplos do nosso conjunto de dados:"
      ]
    },
    {
      "cell_type": "code",
      "execution_count": null,
      "metadata": {
        "id": "MQGBkRtY6SkZ"
      },
      "outputs": [],
      "source": [
        "df = df.loc[(df.fare_amount >= 1) & (df.fare_amount <= 100)]"
      ]
    },
    {
      "cell_type": "markdown",
      "metadata": {
        "id": "2e4hwH_26SkZ"
      },
      "source": [
        "Podemos ver as distribuições novamente:"
      ]
    },
    {
      "cell_type": "code",
      "execution_count": null,
      "metadata": {
        "colab": {
          "base_uri": "https://localhost:8080/",
          "height": 296
        },
        "id": "xEfRRUKU6SkZ",
        "outputId": "1821d86c-c3b2-4164-bbda-f0bef038e5dd"
      },
      "outputs": [
        {
          "output_type": "display_data",
          "data": {
            "text/plain": [
              "<Figure size 432x288 with 1 Axes>"
            ],
            "image/png": "[encoded data removed]"
          },
          "metadata": {
            "needs_background": "light"
          }
        }
      ],
      "source": [
        "sns.boxplot(df.fare_amount).set_title(\"Distribuição do valor pago pela corrida de táxi (target) após remoção de valores extremos\");"
      ]
    },
    {
      "cell_type": "code",
      "execution_count": null,
      "metadata": {
        "colab": {
          "base_uri": "https://localhost:8080/",
          "height": 296
        },
        "id": "sTT9XleU6SkZ",
        "outputId": "c00b323e-1c26-4d5f-b40e-64cd8f113ffe"
      },
      "outputs": [
        {
          "output_type": "display_data",
          "data": {
            "text/plain": [
              "<Figure size 432x288 with 1 Axes>"
            ],
            "image/png": "[encoded data removed]"
          },
          "metadata": {
            "needs_background": "light"
          }
        }
      ],
      "source": [
        "sns.distplot(df.fare_amount).set_title(\"Distribuição do valor pago pela corrida de táxi (target) após remoção de valores extremos\");"
      ]
    },
    {
      "cell_type": "markdown",
      "metadata": {
        "id": "CvhUWEGb6Ska"
      },
      "source": [
        "A visualização melhorou consideravelmente! Ainda podemos ver que as corridas acima de 20 doláres são mais raras, visto que para 75% do nosso conjunto de dados a corrida foi de até 12.5 doláres. Também podemos notar alguns picos entre 40 e 60 doláres."
      ]
    },
    {
      "cell_type": "markdown",
      "metadata": {
        "id": "pncRUTWR6Ska"
      },
      "source": [
        "**`pickup_datetime`**"
      ]
    },
    {
      "cell_type": "markdown",
      "metadata": {
        "id": "zufoV1ON6Ska"
      },
      "source": [
        "Essa feature que indica quando a corrida começou precisa ser convertida para uma data para que possamos trabalhar com ela:"
      ]
    },
    {
      "cell_type": "code",
      "execution_count": null,
      "metadata": {
        "colab": {
          "base_uri": "https://localhost:8080/"
        },
        "id": "caaaXqvq6Ska",
        "outputId": "436e5cb1-5440-4ccb-bc66-03f41fb56fd5"
      },
      "outputs": [
        {
          "output_type": "stream",
          "name": "stdout",
          "text": [
            "<class 'pandas.core.frame.DataFrame'>\n",
            "Int64Index: 999519 entries, 0 to 999999\n",
            "Data columns (total 8 columns):\n",
            " #   Column             Non-Null Count   Dtype         \n",
            "---  ------             --------------   -----         \n",
            " 0   key                999519 non-null  object        \n",
            " 1   fare_amount        999519 non-null  float64       \n",
            " 2   pickup_datetime    999519 non-null  datetime64[ns]\n",
            " 3   pickup_longitude   999519 non-null  float64       \n",
            " 4   pickup_latitude    999519 non-null  float64       \n",
            " 5   dropoff_longitude  999519 non-null  float64       \n",
            " 6   dropoff_latitude   999519 non-null  float64       \n",
            " 7   passenger_count    999519 non-null  int64         \n",
            "dtypes: datetime64[ns](1), float64(5), int64(1), object(1)\n",
            "memory usage: 68.6+ MB\n"
          ]
        }
      ],
      "source": [
        "df['pickup_datetime'] = pd.to_datetime(df['pickup_datetime'],format='%Y-%m-%d %H:%M:%S UTC')\n",
        "df.info()"
      ]
    },
    {
      "cell_type": "markdown",
      "metadata": {
        "id": "wR3SG_YN6Ska"
      },
      "source": [
        "Mesmo com essa conversão, ainda não conseguimos usar essa informação do jeito que está. Podemos quebrá-la em várias features diferentes:"
      ]
    },
    {
      "cell_type": "code",
      "execution_count": null,
      "metadata": {
        "id": "Ap_HYEi66Ska"
      },
      "outputs": [],
      "source": [
        "# horário\n",
        "df['pickup_hour']=df['pickup_datetime'].apply(lambda x:x.hour)\n",
        "# dia da semana (0 é segunda e 6 é domingo)\n",
        "df['pickup_day_of_week']=df['pickup_datetime'].apply(lambda x:x.weekday())\n",
        "# dia\n",
        "df['pickup_day']=df['pickup_datetime'].apply(lambda x:x.day)\n",
        "# mês\n",
        "df['pickup_month']=df['pickup_datetime'].apply(lambda x:x.month)\n",
        "# ano\n",
        "df['pickup_year']=df['pickup_datetime'].apply(lambda x:x.year)"
      ]
    },
    {
      "cell_type": "code",
      "execution_count": null,
      "metadata": {
        "colab": {
          "base_uri": "https://localhost:8080/",
          "height": 211
        },
        "id": "rdJgYdW46Ska",
        "outputId": "7da6e5dc-1fce-4164-fc3a-e5d0a9a099c8"
      },
      "outputs": [
        {
          "output_type": "execute_result",
          "data": {
            "text/plain": [
              "                           key  fare_amount     pickup_datetime  \\\n",
              "0  2009-06-15 17:26:21.0000001          4.5 2009-06-15 17:26:21   \n",
              "1  2010-01-05 16:52:16.0000002         16.9 2010-01-05 16:52:16   \n",
              "\n",
              "   pickup_longitude  pickup_latitude  dropoff_longitude  dropoff_latitude  \\\n",
              "0        -73.844311        40.721319         -73.841610         40.712278   \n",
              "1        -74.016048        40.711303         -73.979268         40.782004   \n",
              "\n",
              "   passenger_count  pickup_hour  pickup_day_of_week  pickup_day  pickup_month  \\\n",
              "0                1           17                   0          15             6   \n",
              "1                1           16                   1           5             1   \n",
              "\n",
              "   pickup_year  \n",
              "0         2009  \n",
              "1         2010  "
            ],
            "text/html": [
              "\n",
              "  <div id=\"df-3aa59657-2e73-45a4-aa5f-adce9c415c4c\">\n",
              "    <div class=\"colab-df-container\">\n",
              "      <div>\n",
              "<style scoped>\n",
              "    .dataframe tbody tr th:only-of-type {\n",
              "        vertical-align: middle;\n",
              "    }\n",
              "\n",
              "    .dataframe tbody tr th {\n",
              "        vertical-align: top;\n",
              "    }\n",
              "\n",
              "    .dataframe thead th {\n",
              "        text-align: right;\n",
              "    }\n",
              "</style>\n",
              "<table border=\"1\" class=\"dataframe\">\n",
              "  <thead>\n",
              "    <tr style=\"text-align: right;\">\n",
              "      <th></th>\n",
              "      <th>key</th>\n",
              "      <th>fare_amount</th>\n",
              "      <th>pickup_datetime</th>\n",
              "      <th>pickup_longitude</th>\n",
              "      <th>pickup_latitude</th>\n",
              "      <th>dropoff_longitude</th>\n",
              "      <th>dropoff_latitude</th>\n",
              "      <th>passenger_count</th>\n",
              "      <th>pickup_hour</th>\n",
              "      <th>pickup_day_of_week</th>\n",
              "      <th>pickup_day</th>\n",
              "      <th>pickup_month</th>\n",
              "      <th>pickup_year</th>\n",
              "    </tr>\n",
              "  </thead>\n",
              "  <tbody>\n",
              "    <tr>\n",
              "      <th>0</th>\n",
              "      <td>2009-06-15 17:26:21.0000001</td>\n",
              "      <td>4.5</td>\n",
              "      <td>2009-06-15 17:26:21</td>\n",
              "      <td>-73.844311</td>\n",
              "      <td>40.721319</td>\n",
              "      <td>-73.841610</td>\n",
              "      <td>40.712278</td>\n",
              "      <td>1</td>\n",
              "      <td>17</td>\n",
              "      <td>0</td>\n",
              "      <td>15</td>\n",
              "      <td>6</td>\n",
              "      <td>2009</td>\n",
              "    </tr>\n",
              "    <tr>\n",
              "      <th>1</th>\n",
              "      <td>2010-01-05 16:52:16.0000002</td>\n",
              "      <td>16.9</td>\n",
              "      <td>2010-01-05 16:52:16</td>\n",
              "      <td>-74.016048</td>\n",
              "      <td>40.711303</td>\n",
              "      <td>-73.979268</td>\n",
              "      <td>40.782004</td>\n",
              "      <td>1</td>\n",
              "      <td>16</td>\n",
              "      <td>1</td>\n",
              "      <td>5</td>\n",
              "      <td>1</td>\n",
              "      <td>2010</td>\n",
              "    </tr>\n",
              "  </tbody>\n",
              "</table>\n",
              "</div>\n",
              "      <button class=\"colab-df-convert\" onclick=\"convertToInteractive('df-3aa59657-2e73-45a4-aa5f-adce9c415c4c')\"\n",
              "              title=\"Convert this dataframe to an interactive table.\"\n",
              "              style=\"display:none;\">\n",
              "        \n",
              "  <svg xmlns=\"http://www.w3.org/2000/svg\" height=\"24px\"viewBox=\"0 0 24 24\"\n",
              "       width=\"24px\">\n",
              "    <path d=\"M0 0h24v24H0V0z\" fill=\"none\"/>\n",
              "    <path d=\"M18.56 5.44l.94 2.06.94-2.06 2.06-.94-2.06-.94-.94-2.06-.94 2.06-2.06.94zm-11 1L8.5 8.5l.94-2.06 2.06-.94-2.06-.94L8.5 2.5l-.94 2.06-2.06.94zm10 10l.94 2.06.94-2.06 2.06-.94-2.06-.94-.94-2.06-.94 2.06-2.06.94z\"/><path d=\"M17.41 7.96l-1.37-1.37c-.4-.4-.92-.59-1.43-.59-.52 0-1.04.2-1.43.59L10.3 9.45l-7.72 7.72c-.78.78-.78 2.05 0 2.83L4 21.41c.39.39.9.59 1.41.59.51 0 1.02-.2 1.41-.59l7.78-7.78 2.81-2.81c.8-.78.8-2.07 0-2.86zM5.41 20L4 18.59l7.72-7.72 1.47 1.35L5.41 20z\"/>\n",
              "  </svg>\n",
              "      </button>\n",
              "      \n",
              "  <style>\n",
              "    .colab-df-container {\n",
              "      display:flex;\n",
              "      flex-wrap:wrap;\n",
              "      gap: 12px;\n",
              "    }\n",
              "\n",
              "    .colab-df-convert {\n",
              "      background-color: #E8F0FE;\n",
              "      border: none;\n",
              "      border-radius: 50%;\n",
              "      cursor: pointer;\n",
              "      display: none;\n",
              "      fill: #1967D2;\n",
              "      height: 32px;\n",
              "      padding: 0 0 0 0;\n",
              "      width: 32px;\n",
              "    }\n",
              "\n",
              "    .colab-df-convert:hover {\n",
              "      background-color: #E2EBFA;\n",
              "      box-shadow: 0px 1px 2px rgba(60, 64, 67, 0.3), 0px 1px 3px 1px rgba(60, 64, 67, 0.15);\n",
              "      fill: #174EA6;\n",
              "    }\n",
              "\n",
              "    [theme=dark] .colab-df-convert {\n",
              "      background-color: #3B4455;\n",
              "      fill: #D2E3FC;\n",
              "    }\n",
              "\n",
              "    [theme=dark] .colab-df-convert:hover {\n",
              "      background-color: #434B5C;\n",
              "      box-shadow: 0px 1px 3px 1px rgba(0, 0, 0, 0.15);\n",
              "      filter: drop-shadow(0px 1px 2px rgba(0, 0, 0, 0.3));\n",
              "      fill: #FFFFFF;\n",
              "    }\n",
              "  </style>\n",
              "\n",
              "      <script>\n",
              "        const buttonEl =\n",
              "          document.querySelector('#df-3aa59657-2e73-45a4-aa5f-adce9c415c4c button.colab-df-convert');\n",
              "        buttonEl.style.display =\n",
              "          google.colab.kernel.accessAllowed ? 'block' : 'none';\n",
              "\n",
              "        async function convertToInteractive(key) {\n",
              "          const element = document.querySelector('#df-3aa59657-2e73-45a4-aa5f-adce9c415c4c');\n",
              "          const dataTable =\n",
              "            await google.colab.kernel.invokeFunction('convertToInteractive',\n",
              "                                                     [key], {});\n",
              "          if (!dataTable) return;\n",
              "\n",
              "          const docLinkHtml = 'Like what you see? Visit the ' +\n",
              "            '<a target=\"_blank\" href=https://colab.research.google.com/notebooks/data_table.ipynb>data table notebook</a>'\n",
              "            + ' to learn more about interactive tables.';\n",
              "          element.innerHTML = '';\n",
              "          dataTable['output_type'] = 'display_data';\n",
              "          await google.colab.output.renderOutput(dataTable, element);\n",
              "          const docLink = document.createElement('div');\n",
              "          docLink.innerHTML = docLinkHtml;\n",
              "          element.appendChild(docLink);\n",
              "        }\n",
              "      </script>\n",
              "    </div>\n",
              "  </div>\n",
              "  "
            ]
          },
          "metadata": {},
          "execution_count": 17
        }
      ],
      "source": [
        "df.head(2)"
      ]
    },
    {
      "cell_type": "markdown",
      "metadata": {
        "id": "BzfZVQLB6Skb"
      },
      "source": [
        "**Horário**"
      ]
    },
    {
      "cell_type": "code",
      "execution_count": null,
      "metadata": {
        "colab": {
          "base_uri": "https://localhost:8080/",
          "height": 296
        },
        "id": "fEq1RUUt6Skb",
        "outputId": "53912550-27aa-4d97-d5ee-77921197968d"
      },
      "outputs": [
        {
          "output_type": "display_data",
          "data": {
            "text/plain": [
              "<Figure size 432x288 with 1 Axes>"
            ],
            "image/png": "[encoded data removed]"
          },
          "metadata": {
            "needs_background": "light"
          }
        }
      ],
      "source": [
        "sns.countplot(df['pickup_hour']).set_title(\"Contagem de corridas com base no horário de início da mesma\");"
      ]
    },
    {
      "cell_type": "code",
      "execution_count": null,
      "metadata": {
        "colab": {
          "base_uri": "https://localhost:8080/",
          "height": 385
        },
        "id": "wD_u3CyK6Skb",
        "outputId": "ee6d2f4f-dfc8-488a-9a76-aa6c685831e6"
      },
      "outputs": [
        {
          "output_type": "display_data",
          "data": {
            "text/plain": [
              "<Figure size 360x360 with 1 Axes>"
            ],
            "image/png": "[encoded data removed]"
          },
          "metadata": {
            "needs_background": "light"
          }
        }
      ],
      "source": [
        "sns.catplot(x=\"pickup_hour\", y=\"fare_amount\", data=df,kind=\"bar\").set(title=\"Valor médio pago pela corrida de acordo com o horário de início da mesma\");"
      ]
    },
    {
      "cell_type": "markdown",
      "metadata": {
        "id": "xUGGnTac6Skb"
      },
      "source": [
        "Nos gráficos acima, podemos notar que as corridas que começam na madrugada são menos frequentes. Por outro lado, a média dos seus valores parece maior do que dos demais horários."
      ]
    },
    {
      "cell_type": "markdown",
      "metadata": {
        "id": "OZzBaBha6Skb"
      },
      "source": [
        "**Dia da semana**"
      ]
    },
    {
      "cell_type": "code",
      "execution_count": null,
      "metadata": {
        "id": "bog1bGdC6Skc"
      },
      "outputs": [],
      "source": [
        "# Vamos fazer a conversão dos dias da semana para facilitar a leitura\n",
        "def convert_day_of_week(day_of_week):\n",
        "    day_dict={0:'Segunda',1:'Terça',2:'Quarta',3:'Quinta',4:'Sexta',5:'Sábado',6:'Domingo'}\n",
        "    return day_dict[day_of_week]"
      ]
    },
    {
      "cell_type": "code",
      "execution_count": null,
      "metadata": {
        "id": "-vbjtEKp6Skc"
      },
      "outputs": [],
      "source": [
        "df['pickup_day_of_week_name']=df['pickup_day_of_week'].apply(lambda x:convert_day_of_week(x))"
      ]
    },
    {
      "cell_type": "code",
      "execution_count": null,
      "metadata": {
        "id": "BI93QZp06Skc"
      },
      "outputs": [],
      "source": [
        "week_day_name = ['Segunda','Terça','Quarta','Quinta','Sexta','Sábado','Domingo']"
      ]
    },
    {
      "cell_type": "code",
      "execution_count": null,
      "metadata": {
        "colab": {
          "base_uri": "https://localhost:8080/",
          "height": 296
        },
        "id": "mDYxkFMw6Skc",
        "outputId": "f2f27d32-d181-4e97-fdf5-5b29fd5926b1"
      },
      "outputs": [
        {
          "output_type": "display_data",
          "data": {
            "text/plain": [
              "<Figure size 432x288 with 1 Axes>"
            ],
            "image/png": "[encoded data removed]"
          },
          "metadata": {
            "needs_background": "light"
          }
        }
      ],
      "source": [
        "sns.countplot(df['pickup_day_of_week_name'],order=week_day_name).set_title(\"Contagem de corridas com base no dia da semana da mesma\");"
      ]
    },
    {
      "cell_type": "code",
      "execution_count": null,
      "metadata": {
        "scrolled": false,
        "colab": {
          "base_uri": "https://localhost:8080/",
          "height": 385
        },
        "id": "3yPxWdsB6Skc",
        "outputId": "84ae3ef5-6fc3-4551-a27d-f0e76e06559b"
      },
      "outputs": [
        {
          "output_type": "display_data",
          "data": {
            "text/plain": [
              "<Figure size 360x360 with 1 Axes>"
            ],
            "image/png": "[encoded data removed]"
          },
          "metadata": {
            "needs_background": "light"
          }
        }
      ],
      "source": [
        "sns.catplot(x=\"pickup_day_of_week_name\", y=\"fare_amount\", data=df,\n",
        "            order=week_day_name,kind=\"bar\").set(title=\"Valor médio pago pela corrida de acordo com base no dia da semana da mesma\");"
      ]
    },
    {
      "cell_type": "markdown",
      "metadata": {
        "id": "_bCORj2j6Skd"
      },
      "source": [
        "De acordo com os gráficos, podemos notar que o pico no número de corridas ocorre nas sextas-feiras. Por outro lado, a média do valor pago pelas corridas parece um pouco maior no domingo do que nos demais dias da semana."
      ]
    },
    {
      "cell_type": "markdown",
      "metadata": {
        "id": "f1HzaB9L6Skd"
      },
      "source": [
        "**Dia**"
      ]
    },
    {
      "cell_type": "code",
      "execution_count": null,
      "metadata": {
        "colab": {
          "base_uri": "https://localhost:8080/",
          "height": 299
        },
        "id": "0lSiHD3q6Skd",
        "outputId": "87a20164-28a9-40e4-b1cc-14348addc269"
      },
      "outputs": [
        {
          "output_type": "display_data",
          "data": {
            "text/plain": [
              "<Figure size 432x288 with 1 Axes>"
            ],
            "image/png": "[encoded data removed]"
          },
          "metadata": {
            "needs_background": "light"
          }
        }
      ],
      "source": [
        "sns.countplot(df['pickup_day']).set_title(\"Contagem de corridas com base no dia em que ela ocorreu\");\n",
        "plt.xticks(rotation=90);"
      ]
    },
    {
      "cell_type": "code",
      "execution_count": null,
      "metadata": {
        "colab": {
          "base_uri": "https://localhost:8080/",
          "height": 388
        },
        "id": "EGVtVUu06Skd",
        "outputId": "2928440f-21a5-4865-8e1f-e8762cfc8fa0"
      },
      "outputs": [
        {
          "output_type": "display_data",
          "data": {
            "text/plain": [
              "<Figure size 360x360 with 1 Axes>"
            ],
            "image/png": "[encoded data removed]"
          },
          "metadata": {
            "needs_background": "light"
          }
        }
      ],
      "source": [
        "sns.catplot(x=\"pickup_day\", y=\"fare_amount\", data=df,kind=\"bar\").set(title=\"Valor médio pago pela corrida de acordo com o dia em que ela ocorreu\");\n",
        "plt.xticks(rotation=90);"
      ]
    },
    {
      "cell_type": "markdown",
      "metadata": {
        "id": "Ob8B9Kgv6Skd"
      },
      "source": [
        "Aparentemente temos menos corridas nos dias 31 (o que faz sentido dado que nem todos os meses vão até esse dia). Já observando a média dos valores pagos por dia da semana, não conseguimos notar uma clara diferença."
      ]
    },
    {
      "cell_type": "markdown",
      "metadata": {
        "id": "qGCiYkdB6Skd"
      },
      "source": [
        "**Mês**"
      ]
    },
    {
      "cell_type": "code",
      "execution_count": null,
      "metadata": {
        "colab": {
          "base_uri": "https://localhost:8080/",
          "height": 296
        },
        "id": "H5ohj4aL6Skd",
        "outputId": "40fecc90-a101-4b3a-8052-30ace87ead4a"
      },
      "outputs": [
        {
          "output_type": "display_data",
          "data": {
            "text/plain": [
              "<Figure size 432x288 with 1 Axes>"
            ],
            "image/png": "[encoded data removed]"
          },
          "metadata": {
            "needs_background": "light"
          }
        }
      ],
      "source": [
        "sns.countplot(df['pickup_month']).set_title(\"Contagem de corridas com base no mês em que ela ocorreu\");"
      ]
    },
    {
      "cell_type": "code",
      "execution_count": null,
      "metadata": {
        "colab": {
          "base_uri": "https://localhost:8080/",
          "height": 385
        },
        "id": "tVdXdAV76Ske",
        "outputId": "5f6d9eb3-68a6-456f-bc8b-0ef15a8d2749"
      },
      "outputs": [
        {
          "output_type": "display_data",
          "data": {
            "text/plain": [
              "<Figure size 360x360 with 1 Axes>"
            ],
            "image/png": "[encoded data removed]"
          },
          "metadata": {
            "needs_background": "light"
          }
        }
      ],
      "source": [
        "sns.catplot(x=\"pickup_month\", y=\"fare_amount\", data=df,kind=\"bar\").set(title=\"Valor médio pago pela corrida de acordo com o mês em que ela ocorreu\");"
      ]
    },
    {
      "cell_type": "markdown",
      "metadata": {
        "id": "Px7QE5PG6Ske"
      },
      "source": [
        "Com relação ao mês, aparentemente mais corridas de táxi são feitas no primeiro semestre do que no segundo. Já em relação à média do valor pago, os meses do começo do ano e do meio do ano parecem ter valores menores do que os demais meses. "
      ]
    },
    {
      "cell_type": "markdown",
      "metadata": {
        "id": "7vzpe5hC6Ske"
      },
      "source": [
        "**Ano**"
      ]
    },
    {
      "cell_type": "code",
      "execution_count": null,
      "metadata": {
        "colab": {
          "base_uri": "https://localhost:8080/",
          "height": 296
        },
        "id": "om3gqd5F6Ske",
        "outputId": "b45b794a-7b11-4230-95f0-6803d8c5485a"
      },
      "outputs": [
        {
          "output_type": "display_data",
          "data": {
            "text/plain": [
              "<Figure size 432x288 with 1 Axes>"
            ],
            "image/png": "[encoded data removed]"
          },
          "metadata": {
            "needs_background": "light"
          }
        }
      ],
      "source": [
        "sns.countplot(df['pickup_year']).set_title(\"Contagem de corridas com base no ano em que ela ocorreu\");"
      ]
    },
    {
      "cell_type": "code",
      "execution_count": null,
      "metadata": {
        "colab": {
          "base_uri": "https://localhost:8080/",
          "height": 385
        },
        "id": "ZVrDkGfW6Ske",
        "outputId": "73630abd-a4f7-4c64-857f-7896c9ca127b"
      },
      "outputs": [
        {
          "output_type": "display_data",
          "data": {
            "text/plain": [
              "<Figure size 360x360 with 1 Axes>"
            ],
            "image/png": "[encoded data removed]"
          },
          "metadata": {
            "needs_background": "light"
          }
        }
      ],
      "source": [
        "sns.catplot(x=\"pickup_year\", y=\"fare_amount\", data=df,kind=\"bar\").set(title=\"Valor médio pago pela corrida de acordo com o ano em que ela ocorreu\");"
      ]
    },
    {
      "cell_type": "markdown",
      "metadata": {
        "id": "wS9PyRR66Ske"
      },
      "source": [
        "Para a feature que indica o ano da corrida, podemos notar que o ano de 2015 contém bem menos corridas no nosso conjunto de dados do que os demais anos. Uma hipótese para que isso tenha acontecido é que o conjunto de dados foi coletado no meio desse ano e, portanto, ainda não haviam dados do ano inteiro.\n",
        "\n",
        "Com relação ao valor pago, podemos notar que há uma tendência de crescimento na média do valor pago pela corrida conforme os anos vão passando."
      ]
    },
    {
      "cell_type": "markdown",
      "metadata": {
        "id": "Eav0__9t6Ske"
      },
      "source": [
        "**`latitude e longitude`**"
      ]
    },
    {
      "cell_type": "code",
      "execution_count": null,
      "metadata": {
        "colab": {
          "base_uri": "https://localhost:8080/",
          "height": 300
        },
        "id": "X2c1wkJ36Ske",
        "outputId": "eba2b514-8965-4911-f47b-56e81bcee9fa"
      },
      "outputs": [
        {
          "output_type": "execute_result",
          "data": {
            "text/plain": [
              "       pickup_latitude  pickup_longitude  dropoff_latitude  dropoff_longitude\n",
              "count    999519.000000     999519.000000     999519.000000      999519.000000\n",
              "mean         39.930365        -72.529162         39.921741         -72.531198\n",
              "std           7.623472         12.051418          8.198080          11.314573\n",
              "min       -3116.285383      -3377.680935      -3114.338567       -3383.296608\n",
              "25%          40.734977        -73.992061         40.734055         -73.991382\n",
              "50%          40.752697        -73.981796         40.753166         -73.980136\n",
              "75%          40.767151        -73.967110         40.768122         -73.963666\n",
              "max        2621.628430       2522.271325       1651.553433          45.581619"
            ],
            "text/html": [
              "\n",
              "  <div id=\"df-3c3c200c-d267-43db-a174-5f00ced33893\">\n",
              "    <div class=\"colab-df-container\">\n",
              "      <div>\n",
              "<style scoped>\n",
              "    .dataframe tbody tr th:only-of-type {\n",
              "        vertical-align: middle;\n",
              "    }\n",
              "\n",
              "    .dataframe tbody tr th {\n",
              "        vertical-align: top;\n",
              "    }\n",
              "\n",
              "    .dataframe thead th {\n",
              "        text-align: right;\n",
              "    }\n",
              "</style>\n",
              "<table border=\"1\" class=\"dataframe\">\n",
              "  <thead>\n",
              "    <tr style=\"text-align: right;\">\n",
              "      <th></th>\n",
              "      <th>pickup_latitude</th>\n",
              "      <th>pickup_longitude</th>\n",
              "      <th>dropoff_latitude</th>\n",
              "      <th>dropoff_longitude</th>\n",
              "    </tr>\n",
              "  </thead>\n",
              "  <tbody>\n",
              "    <tr>\n",
              "      <th>count</th>\n",
              "      <td>999519.000000</td>\n",
              "      <td>999519.000000</td>\n",
              "      <td>999519.000000</td>\n",
              "      <td>999519.000000</td>\n",
              "    </tr>\n",
              "    <tr>\n",
              "      <th>mean</th>\n",
              "      <td>39.930365</td>\n",
              "      <td>-72.529162</td>\n",
              "      <td>39.921741</td>\n",
              "      <td>-72.531198</td>\n",
              "    </tr>\n",
              "    <tr>\n",
              "      <th>std</th>\n",
              "      <td>7.623472</td>\n",
              "      <td>12.051418</td>\n",
              "      <td>8.198080</td>\n",
              "      <td>11.314573</td>\n",
              "    </tr>\n",
              "    <tr>\n",
              "      <th>min</th>\n",
              "      <td>-3116.285383</td>\n",
              "      <td>-3377.680935</td>\n",
              "      <td>-3114.338567</td>\n",
              "      <td>-3383.296608</td>\n",
              "    </tr>\n",
              "    <tr>\n",
              "      <th>25%</th>\n",
              "      <td>40.734977</td>\n",
              "      <td>-73.992061</td>\n",
              "      <td>40.734055</td>\n",
              "      <td>-73.991382</td>\n",
              "    </tr>\n",
              "    <tr>\n",
              "      <th>50%</th>\n",
              "      <td>40.752697</td>\n",
              "      <td>-73.981796</td>\n",
              "      <td>40.753166</td>\n",
              "      <td>-73.980136</td>\n",
              "    </tr>\n",
              "    <tr>\n",
              "      <th>75%</th>\n",
              "      <td>40.767151</td>\n",
              "      <td>-73.967110</td>\n",
              "      <td>40.768122</td>\n",
              "      <td>-73.963666</td>\n",
              "    </tr>\n",
              "    <tr>\n",
              "      <th>max</th>\n",
              "      <td>2621.628430</td>\n",
              "      <td>2522.271325</td>\n",
              "      <td>1651.553433</td>\n",
              "      <td>45.581619</td>\n",
              "    </tr>\n",
              "  </tbody>\n",
              "</table>\n",
              "</div>\n",
              "      <button class=\"colab-df-convert\" onclick=\"convertToInteractive('df-3c3c200c-d267-43db-a174-5f00ced33893')\"\n",
              "              title=\"Convert this dataframe to an interactive table.\"\n",
              "              style=\"display:none;\">\n",
              "        \n",
              "  <svg xmlns=\"http://www.w3.org/2000/svg\" height=\"24px\"viewBox=\"0 0 24 24\"\n",
              "       width=\"24px\">\n",
              "    <path d=\"M0 0h24v24H0V0z\" fill=\"none\"/>\n",
              "    <path d=\"M18.56 5.44l.94 2.06.94-2.06 2.06-.94-2.06-.94-.94-2.06-.94 2.06-2.06.94zm-11 1L8.5 8.5l.94-2.06 2.06-.94-2.06-.94L8.5 2.5l-.94 2.06-2.06.94zm10 10l.94 2.06.94-2.06 2.06-.94-2.06-.94-.94-2.06-.94 2.06-2.06.94z\"/><path d=\"M17.41 7.96l-1.37-1.37c-.4-.4-.92-.59-1.43-.59-.52 0-1.04.2-1.43.59L10.3 9.45l-7.72 7.72c-.78.78-.78 2.05 0 2.83L4 21.41c.39.39.9.59 1.41.59.51 0 1.02-.2 1.41-.59l7.78-7.78 2.81-2.81c.8-.78.8-2.07 0-2.86zM5.41 20L4 18.59l7.72-7.72 1.47 1.35L5.41 20z\"/>\n",
              "  </svg>\n",
              "      </button>\n",
              "      \n",
              "  <style>\n",
              "    .colab-df-container {\n",
              "      display:flex;\n",
              "      flex-wrap:wrap;\n",
              "      gap: 12px;\n",
              "    }\n",
              "\n",
              "    .colab-df-convert {\n",
              "      background-color: #E8F0FE;\n",
              "      border: none;\n",
              "      border-radius: 50%;\n",
              "      cursor: pointer;\n",
              "      display: none;\n",
              "      fill: #1967D2;\n",
              "      height: 32px;\n",
              "      padding: 0 0 0 0;\n",
              "      width: 32px;\n",
              "    }\n",
              "\n",
              "    .colab-df-convert:hover {\n",
              "      background-color: #E2EBFA;\n",
              "      box-shadow: 0px 1px 2px rgba(60, 64, 67, 0.3), 0px 1px 3px 1px rgba(60, 64, 67, 0.15);\n",
              "      fill: #174EA6;\n",
              "    }\n",
              "\n",
              "    [theme=dark] .colab-df-convert {\n",
              "      background-color: #3B4455;\n",
              "      fill: #D2E3FC;\n",
              "    }\n",
              "\n",
              "    [theme=dark] .colab-df-convert:hover {\n",
              "      background-color: #434B5C;\n",
              "      box-shadow: 0px 1px 3px 1px rgba(0, 0, 0, 0.15);\n",
              "      filter: drop-shadow(0px 1px 2px rgba(0, 0, 0, 0.3));\n",
              "      fill: #FFFFFF;\n",
              "    }\n",
              "  </style>\n",
              "\n",
              "      <script>\n",
              "        const buttonEl =\n",
              "          document.querySelector('#df-3c3c200c-d267-43db-a174-5f00ced33893 button.colab-df-convert');\n",
              "        buttonEl.style.display =\n",
              "          google.colab.kernel.accessAllowed ? 'block' : 'none';\n",
              "\n",
              "        async function convertToInteractive(key) {\n",
              "          const element = document.querySelector('#df-3c3c200c-d267-43db-a174-5f00ced33893');\n",
              "          const dataTable =\n",
              "            await google.colab.kernel.invokeFunction('convertToInteractive',\n",
              "                                                     [key], {});\n",
              "          if (!dataTable) return;\n",
              "\n",
              "          const docLinkHtml = 'Like what you see? Visit the ' +\n",
              "            '<a target=\"_blank\" href=https://colab.research.google.com/notebooks/data_table.ipynb>data table notebook</a>'\n",
              "            + ' to learn more about interactive tables.';\n",
              "          element.innerHTML = '';\n",
              "          dataTable['output_type'] = 'display_data';\n",
              "          await google.colab.output.renderOutput(dataTable, element);\n",
              "          const docLink = document.createElement('div');\n",
              "          docLink.innerHTML = docLinkHtml;\n",
              "          element.appendChild(docLink);\n",
              "        }\n",
              "      </script>\n",
              "    </div>\n",
              "  </div>\n",
              "  "
            ]
          },
          "metadata": {},
          "execution_count": 31
        }
      ],
      "source": [
        "df[['pickup_latitude', 'pickup_longitude', 'dropoff_latitude', 'dropoff_longitude']].describe()"
      ]
    },
    {
      "cell_type": "markdown",
      "metadata": {
        "id": "xcM0wHSf6Skf"
      },
      "source": [
        "As coordenadas de latitude variam apenas entre -90 e 90, enquanto que a longitude varia apenas entre -180 e 180. \n",
        "Podemos excluir todos os exemplos cujas longitudes e latitudes estão fora desse intervalo:"
      ]
    },
    {
      "cell_type": "code",
      "execution_count": null,
      "metadata": {
        "colab": {
          "base_uri": "https://localhost:8080/"
        },
        "id": "ZqCHsk3-6Skf",
        "outputId": "601d2d72-2715-4690-e80f-c991e45e758c"
      },
      "outputs": [
        {
          "output_type": "stream",
          "name": "stdout",
          "text": [
            "Tamanho conjunto de dados (antes da remoção de valores faltantes): 999519\n",
            "Tamanho conjunto de dados (depois da remoção de valores faltantes): 999479\n"
          ]
        }
      ],
      "source": [
        "print(f'Tamanho conjunto de dados (antes da remoção de valores faltantes): {len(df)}')\n",
        "df = df.loc[(df.pickup_latitude>=-90) & (df.pickup_latitude<=90)]\n",
        "df = df.loc[(df.pickup_longitude>=-180) & (df.pickup_longitude<=180)]\n",
        "df = df.loc[(df.dropoff_latitude>=-90) & (df.dropoff_latitude<=90)]\n",
        "df = df.loc[(df.dropoff_longitude>=-180) & (df.dropoff_longitude<=180)]\n",
        "print(f'Tamanho conjunto de dados (depois da remoção de valores faltantes): {len(df)}')"
      ]
    },
    {
      "cell_type": "code",
      "execution_count": null,
      "metadata": {
        "colab": {
          "base_uri": "https://localhost:8080/",
          "height": 300
        },
        "id": "FXxZMgNy6Skh",
        "outputId": "b11bf7c8-6227-4a2a-811a-9c2677a2e565"
      },
      "outputs": [
        {
          "output_type": "execute_result",
          "data": {
            "text/plain": [
              "       pickup_latitude  pickup_longitude  dropoff_latitude  dropoff_longitude\n",
              "count    999479.000000     999479.000000     999479.000000      999479.000000\n",
              "mean         39.928068        -72.519762         39.927656         -72.518556\n",
              "std           6.085292         10.385367          6.088085          10.386105\n",
              "min         -74.016587       -128.175950        -74.035197        -121.391248\n",
              "25%          40.734977        -73.992060         40.734055         -73.991382\n",
              "50%          40.752697        -73.981796         40.753165         -73.980136\n",
              "75%          40.767151        -73.967110         40.768122         -73.963666\n",
              "max          69.400000         40.850357         81.510177          45.581619"
            ],
            "text/html": [
              "\n",
              "  <div id=\"df-de366db2-18fd-4a7e-9c9b-d98e3ed4e5c7\">\n",
              "    <div class=\"colab-df-container\">\n",
              "      <div>\n",
              "<style scoped>\n",
              "    .dataframe tbody tr th:only-of-type {\n",
              "        vertical-align: middle;\n",
              "    }\n",
              "\n",
              "    .dataframe tbody tr th {\n",
              "        vertical-align: top;\n",
              "    }\n",
              "\n",
              "    .dataframe thead th {\n",
              "        text-align: right;\n",
              "    }\n",
              "</style>\n",
              "<table border=\"1\" class=\"dataframe\">\n",
              "  <thead>\n",
              "    <tr style=\"text-align: right;\">\n",
              "      <th></th>\n",
              "      <th>pickup_latitude</th>\n",
              "      <th>pickup_longitude</th>\n",
              "      <th>dropoff_latitude</th>\n",
              "      <th>dropoff_longitude</th>\n",
              "    </tr>\n",
              "  </thead>\n",
              "  <tbody>\n",
              "    <tr>\n",
              "      <th>count</th>\n",
              "      <td>999479.000000</td>\n",
              "      <td>999479.000000</td>\n",
              "      <td>999479.000000</td>\n",
              "      <td>999479.000000</td>\n",
              "    </tr>\n",
              "    <tr>\n",
              "      <th>mean</th>\n",
              "      <td>39.928068</td>\n",
              "      <td>-72.519762</td>\n",
              "      <td>39.927656</td>\n",
              "      <td>-72.518556</td>\n",
              "    </tr>\n",
              "    <tr>\n",
              "      <th>std</th>\n",
              "      <td>6.085292</td>\n",
              "      <td>10.385367</td>\n",
              "      <td>6.088085</td>\n",
              "      <td>10.386105</td>\n",
              "    </tr>\n",
              "    <tr>\n",
              "      <th>min</th>\n",
              "      <td>-74.016587</td>\n",
              "      <td>-128.175950</td>\n",
              "      <td>-74.035197</td>\n",
              "      <td>-121.391248</td>\n",
              "    </tr>\n",
              "    <tr>\n",
              "      <th>25%</th>\n",
              "      <td>40.734977</td>\n",
              "      <td>-73.992060</td>\n",
              "      <td>40.734055</td>\n",
              "      <td>-73.991382</td>\n",
              "    </tr>\n",
              "    <tr>\n",
              "      <th>50%</th>\n",
              "      <td>40.752697</td>\n",
              "      <td>-73.981796</td>\n",
              "      <td>40.753165</td>\n",
              "      <td>-73.980136</td>\n",
              "    </tr>\n",
              "    <tr>\n",
              "      <th>75%</th>\n",
              "      <td>40.767151</td>\n",
              "      <td>-73.967110</td>\n",
              "      <td>40.768122</td>\n",
              "      <td>-73.963666</td>\n",
              "    </tr>\n",
              "    <tr>\n",
              "      <th>max</th>\n",
              "      <td>69.400000</td>\n",
              "      <td>40.850357</td>\n",
              "      <td>81.510177</td>\n",
              "      <td>45.581619</td>\n",
              "    </tr>\n",
              "  </tbody>\n",
              "</table>\n",
              "</div>\n",
              "      <button class=\"colab-df-convert\" onclick=\"convertToInteractive('df-de366db2-18fd-4a7e-9c9b-d98e3ed4e5c7')\"\n",
              "              title=\"Convert this dataframe to an interactive table.\"\n",
              "              style=\"display:none;\">\n",
              "        \n",
              "  <svg xmlns=\"http://www.w3.org/2000/svg\" height=\"24px\"viewBox=\"0 0 24 24\"\n",
              "       width=\"24px\">\n",
              "    <path d=\"M0 0h24v24H0V0z\" fill=\"none\"/>\n",
              "    <path d=\"M18.56 5.44l.94 2.06.94-2.06 2.06-.94-2.06-.94-.94-2.06-.94 2.06-2.06.94zm-11 1L8.5 8.5l.94-2.06 2.06-.94-2.06-.94L8.5 2.5l-.94 2.06-2.06.94zm10 10l.94 2.06.94-2.06 2.06-.94-2.06-.94-.94-2.06-.94 2.06-2.06.94z\"/><path d=\"M17.41 7.96l-1.37-1.37c-.4-.4-.92-.59-1.43-.59-.52 0-1.04.2-1.43.59L10.3 9.45l-7.72 7.72c-.78.78-.78 2.05 0 2.83L4 21.41c.39.39.9.59 1.41.59.51 0 1.02-.2 1.41-.59l7.78-7.78 2.81-2.81c.8-.78.8-2.07 0-2.86zM5.41 20L4 18.59l7.72-7.72 1.47 1.35L5.41 20z\"/>\n",
              "  </svg>\n",
              "      </button>\n",
              "      \n",
              "  <style>\n",
              "    .colab-df-container {\n",
              "      display:flex;\n",
              "      flex-wrap:wrap;\n",
              "      gap: 12px;\n",
              "    }\n",
              "\n",
              "    .colab-df-convert {\n",
              "      background-color: #E8F0FE;\n",
              "      border: none;\n",
              "      border-radius: 50%;\n",
              "      cursor: pointer;\n",
              "      display: none;\n",
              "      fill: #1967D2;\n",
              "      height: 32px;\n",
              "      padding: 0 0 0 0;\n",
              "      width: 32px;\n",
              "    }\n",
              "\n",
              "    .colab-df-convert:hover {\n",
              "      background-color: #E2EBFA;\n",
              "      box-shadow: 0px 1px 2px rgba(60, 64, 67, 0.3), 0px 1px 3px 1px rgba(60, 64, 67, 0.15);\n",
              "      fill: #174EA6;\n",
              "    }\n",
              "\n",
              "    [theme=dark] .colab-df-convert {\n",
              "      background-color: #3B4455;\n",
              "      fill: #D2E3FC;\n",
              "    }\n",
              "\n",
              "    [theme=dark] .colab-df-convert:hover {\n",
              "      background-color: #434B5C;\n",
              "      box-shadow: 0px 1px 3px 1px rgba(0, 0, 0, 0.15);\n",
              "      filter: drop-shadow(0px 1px 2px rgba(0, 0, 0, 0.3));\n",
              "      fill: #FFFFFF;\n",
              "    }\n",
              "  </style>\n",
              "\n",
              "      <script>\n",
              "        const buttonEl =\n",
              "          document.querySelector('#df-de366db2-18fd-4a7e-9c9b-d98e3ed4e5c7 button.colab-df-convert');\n",
              "        buttonEl.style.display =\n",
              "          google.colab.kernel.accessAllowed ? 'block' : 'none';\n",
              "\n",
              "        async function convertToInteractive(key) {\n",
              "          const element = document.querySelector('#df-de366db2-18fd-4a7e-9c9b-d98e3ed4e5c7');\n",
              "          const dataTable =\n",
              "            await google.colab.kernel.invokeFunction('convertToInteractive',\n",
              "                                                     [key], {});\n",
              "          if (!dataTable) return;\n",
              "\n",
              "          const docLinkHtml = 'Like what you see? Visit the ' +\n",
              "            '<a target=\"_blank\" href=https://colab.research.google.com/notebooks/data_table.ipynb>data table notebook</a>'\n",
              "            + ' to learn more about interactive tables.';\n",
              "          element.innerHTML = '';\n",
              "          dataTable['output_type'] = 'display_data';\n",
              "          await google.colab.output.renderOutput(dataTable, element);\n",
              "          const docLink = document.createElement('div');\n",
              "          docLink.innerHTML = docLinkHtml;\n",
              "          element.appendChild(docLink);\n",
              "        }\n",
              "      </script>\n",
              "    </div>\n",
              "  </div>\n",
              "  "
            ]
          },
          "metadata": {},
          "execution_count": 33
        }
      ],
      "source": [
        "df[['pickup_latitude', 'pickup_longitude', 'dropoff_latitude', 'dropoff_longitude']].describe()"
      ]
    },
    {
      "cell_type": "markdown",
      "metadata": {
        "id": "GCQ58mWQ6Ski"
      },
      "source": [
        "**Pontos de origem da corrida**"
      ]
    },
    {
      "cell_type": "code",
      "execution_count": null,
      "metadata": {
        "colab": {
          "base_uri": "https://localhost:8080/",
          "height": 296
        },
        "id": "nmaEzQTf6Ski",
        "outputId": "9b0859a1-87bf-4955-b684-15cf9c98a423"
      },
      "outputs": [
        {
          "output_type": "display_data",
          "data": {
            "text/plain": [
              "<Figure size 432x288 with 1 Axes>"
            ],
            "image/png": "[encoded data removed]"
          },
          "metadata": {
            "needs_background": "light"
          }
        }
      ],
      "source": [
        "df.plot(kind='scatter', x='pickup_longitude', y='pickup_latitude',\n",
        "                color='green', \n",
        "                s=.02, alpha=.6)\n",
        "plt.title(\"Pickups (coordenadas dos locais de início das corridas do conjunto de dados)\");"
      ]
    },
    {
      "cell_type": "markdown",
      "metadata": {
        "id": "skmqortY6Ski"
      },
      "source": [
        "Conforme podemos notar no gráfico acima, parece que algumas corridas ainda são outliers, visto que estão muito distantes das demais, um indício de que essas viagens não tiveram origem na cidade de New York. Vamos remover os casos de pontos que não estão no intervalo abaixo:"
      ]
    },
    {
      "cell_type": "code",
      "execution_count": null,
      "metadata": {
        "id": "Vaio6Qpa6Ski"
      },
      "outputs": [],
      "source": [
        "long_interval = (-74.04, -73.75)\n",
        "lat_interval = (40.63, 40.88)"
      ]
    },
    {
      "cell_type": "code",
      "execution_count": null,
      "metadata": {
        "colab": {
          "base_uri": "https://localhost:8080/",
          "height": 296
        },
        "id": "ya8ighy56Ski",
        "outputId": "9114dc40-5292-4aff-feb0-4ad91371a23b"
      },
      "outputs": [
        {
          "output_type": "display_data",
          "data": {
            "text/plain": [
              "<Figure size 432x288 with 1 Axes>"
            ],
            "image/png": "[encoded data removed]"
          },
          "metadata": {
            "needs_background": "light"
          }
        }
      ],
      "source": [
        "df.plot(kind='scatter', x='pickup_longitude', y='pickup_latitude',\n",
        "                color='green', \n",
        "                s=.02, alpha=.6)\n",
        "plt.title(\"Origens das corridas\")\n",
        "plt.ylim(lat_interval)\n",
        "plt.xlim(long_interval);"
      ]
    },
    {
      "cell_type": "markdown",
      "metadata": {
        "id": "_Td1TI_-6Ski"
      },
      "source": [
        "Agora conseguimos visualizar Manhattan :) \n",
        "\n",
        "Vamos então filtrar novamente as longitudes e latitudes para considerar somente esses intervalos:"
      ]
    },
    {
      "cell_type": "code",
      "execution_count": null,
      "metadata": {
        "colab": {
          "base_uri": "https://localhost:8080/"
        },
        "id": "GzUbNk2z6Skj",
        "outputId": "e1a72695-065f-47c1-824e-a1b43dd187d2"
      },
      "outputs": [
        {
          "output_type": "stream",
          "name": "stdout",
          "text": [
            "Tamanho conjunto de dados (antes da remoção de valores faltantes): 999479\n",
            "Tamanho conjunto de dados (depois da remoção de valores faltantes): 970979\n"
          ]
        }
      ],
      "source": [
        "print(f'Tamanho conjunto de dados (antes da remoção de valores faltantes): {len(df)}')\n",
        "df = df.loc[(df.pickup_latitude>=40.63) & (df.pickup_latitude<=40.88)]\n",
        "df = df.loc[(df.pickup_longitude>=-74.04) & (df.pickup_longitude<=-73.75)]\n",
        "df = df.loc[(df.dropoff_latitude>=40.63) & (df.dropoff_latitude<=40.88)]\n",
        "df = df.loc[(df.dropoff_longitude>=-74.04) & (df.dropoff_longitude<=-73.75)]\n",
        "print(f'Tamanho conjunto de dados (depois da remoção de valores faltantes): {len(df)}')"
      ]
    },
    {
      "cell_type": "markdown",
      "metadata": {
        "id": "ebDa2p6a6Skj"
      },
      "source": [
        "**Pontos de destino da corrida**"
      ]
    },
    {
      "cell_type": "code",
      "execution_count": null,
      "metadata": {
        "colab": {
          "base_uri": "https://localhost:8080/",
          "height": 296
        },
        "id": "AXWdKuJi6Skj",
        "outputId": "a1afe08e-88d2-4b2b-aad3-2639b16df14b"
      },
      "outputs": [
        {
          "output_type": "display_data",
          "data": {
            "text/plain": [
              "<Figure size 432x288 with 1 Axes>"
            ],
            "image/png": "[encoded data removed]"
          },
          "metadata": {
            "needs_background": "light"
          }
        }
      ],
      "source": [
        "df.plot(kind='scatter', x='dropoff_longitude', y='dropoff_latitude',\n",
        "                color='green', \n",
        "                s=.02, alpha=.6)\n",
        "plt.title(\"Destinos das corridas\");"
      ]
    },
    {
      "cell_type": "markdown",
      "metadata": {
        "id": "YGpezG7Z6Skj"
      },
      "source": [
        "Comparando com o \"mapa\" das origens, conseguimos ver que há mais destinos fora de Manhattan, o que indica que muitas corridas começam em Manhattan e terminar no Brooklyn e no Queens."
      ]
    },
    {
      "cell_type": "markdown",
      "metadata": {
        "id": "iAXJSG1Q6Skj"
      },
      "source": [
        "Além dessa limpeza de outliers, também podemos criar novas variáveis, como as de diferenças absolutas entre as latitudes e as longitudes de origem e destino das corridas:"
      ]
    },
    {
      "cell_type": "code",
      "execution_count": null,
      "metadata": {
        "id": "CnjYLcpL6Skk"
      },
      "outputs": [],
      "source": [
        "df['abs_diff_longitude'] = (df.dropoff_longitude - df.pickup_longitude).abs()\n",
        "df['abs_diff_latitude'] = (df.dropoff_latitude - df.pickup_latitude).abs()"
      ]
    },
    {
      "cell_type": "code",
      "execution_count": null,
      "metadata": {
        "colab": {
          "base_uri": "https://localhost:8080/",
          "height": 300
        },
        "id": "ckSY51Mq6Skk",
        "outputId": "cacc5d6d-a752-421a-f1c8-3d54808f929e"
      },
      "outputs": [
        {
          "output_type": "execute_result",
          "data": {
            "text/plain": [
              "       abs_diff_latitude  abs_diff_longitude\n",
              "count      970979.000000       970979.000000\n",
              "mean            0.020785            0.022129\n",
              "std             0.021742            0.032358\n",
              "min             0.000000            0.000000\n",
              "25%             0.006921            0.006116\n",
              "50%             0.014084            0.012630\n",
              "75%             0.026880            0.023665\n",
              "max             0.237560            0.260020"
            ],
            "text/html": [
              "\n",
              "  <div id=\"df-978754fb-e6bc-4cc3-bde0-f236a84cedfe\">\n",
              "    <div class=\"colab-df-container\">\n",
              "      <div>\n",
              "<style scoped>\n",
              "    .dataframe tbody tr th:only-of-type {\n",
              "        vertical-align: middle;\n",
              "    }\n",
              "\n",
              "    .dataframe tbody tr th {\n",
              "        vertical-align: top;\n",
              "    }\n",
              "\n",
              "    .dataframe thead th {\n",
              "        text-align: right;\n",
              "    }\n",
              "</style>\n",
              "<table border=\"1\" class=\"dataframe\">\n",
              "  <thead>\n",
              "    <tr style=\"text-align: right;\">\n",
              "      <th></th>\n",
              "      <th>abs_diff_latitude</th>\n",
              "      <th>abs_diff_longitude</th>\n",
              "    </tr>\n",
              "  </thead>\n",
              "  <tbody>\n",
              "    <tr>\n",
              "      <th>count</th>\n",
              "      <td>970979.000000</td>\n",
              "      <td>970979.000000</td>\n",
              "    </tr>\n",
              "    <tr>\n",
              "      <th>mean</th>\n",
              "      <td>0.020785</td>\n",
              "      <td>0.022129</td>\n",
              "    </tr>\n",
              "    <tr>\n",
              "      <th>std</th>\n",
              "      <td>0.021742</td>\n",
              "      <td>0.032358</td>\n",
              "    </tr>\n",
              "    <tr>\n",
              "      <th>min</th>\n",
              "      <td>0.000000</td>\n",
              "      <td>0.000000</td>\n",
              "    </tr>\n",
              "    <tr>\n",
              "      <th>25%</th>\n",
              "      <td>0.006921</td>\n",
              "      <td>0.006116</td>\n",
              "    </tr>\n",
              "    <tr>\n",
              "      <th>50%</th>\n",
              "      <td>0.014084</td>\n",
              "      <td>0.012630</td>\n",
              "    </tr>\n",
              "    <tr>\n",
              "      <th>75%</th>\n",
              "      <td>0.026880</td>\n",
              "      <td>0.023665</td>\n",
              "    </tr>\n",
              "    <tr>\n",
              "      <th>max</th>\n",
              "      <td>0.237560</td>\n",
              "      <td>0.260020</td>\n",
              "    </tr>\n",
              "  </tbody>\n",
              "</table>\n",
              "</div>\n",
              "      <button class=\"colab-df-convert\" onclick=\"convertToInteractive('df-978754fb-e6bc-4cc3-bde0-f236a84cedfe')\"\n",
              "              title=\"Convert this dataframe to an interactive table.\"\n",
              "              style=\"display:none;\">\n",
              "        \n",
              "  <svg xmlns=\"http://www.w3.org/2000/svg\" height=\"24px\"viewBox=\"0 0 24 24\"\n",
              "       width=\"24px\">\n",
              "    <path d=\"M0 0h24v24H0V0z\" fill=\"none\"/>\n",
              "    <path d=\"M18.56 5.44l.94 2.06.94-2.06 2.06-.94-2.06-.94-.94-2.06-.94 2.06-2.06.94zm-11 1L8.5 8.5l.94-2.06 2.06-.94-2.06-.94L8.5 2.5l-.94 2.06-2.06.94zm10 10l.94 2.06.94-2.06 2.06-.94-2.06-.94-.94-2.06-.94 2.06-2.06.94z\"/><path d=\"M17.41 7.96l-1.37-1.37c-.4-.4-.92-.59-1.43-.59-.52 0-1.04.2-1.43.59L10.3 9.45l-7.72 7.72c-.78.78-.78 2.05 0 2.83L4 21.41c.39.39.9.59 1.41.59.51 0 1.02-.2 1.41-.59l7.78-7.78 2.81-2.81c.8-.78.8-2.07 0-2.86zM5.41 20L4 18.59l7.72-7.72 1.47 1.35L5.41 20z\"/>\n",
              "  </svg>\n",
              "      </button>\n",
              "      \n",
              "  <style>\n",
              "    .colab-df-container {\n",
              "      display:flex;\n",
              "      flex-wrap:wrap;\n",
              "      gap: 12px;\n",
              "    }\n",
              "\n",
              "    .colab-df-convert {\n",
              "      background-color: #E8F0FE;\n",
              "      border: none;\n",
              "      border-radius: 50%;\n",
              "      cursor: pointer;\n",
              "      display: none;\n",
              "      fill: #1967D2;\n",
              "      height: 32px;\n",
              "      padding: 0 0 0 0;\n",
              "      width: 32px;\n",
              "    }\n",
              "\n",
              "    .colab-df-convert:hover {\n",
              "      background-color: #E2EBFA;\n",
              "      box-shadow: 0px 1px 2px rgba(60, 64, 67, 0.3), 0px 1px 3px 1px rgba(60, 64, 67, 0.15);\n",
              "      fill: #174EA6;\n",
              "    }\n",
              "\n",
              "    [theme=dark] .colab-df-convert {\n",
              "      background-color: #3B4455;\n",
              "      fill: #D2E3FC;\n",
              "    }\n",
              "\n",
              "    [theme=dark] .colab-df-convert:hover {\n",
              "      background-color: #434B5C;\n",
              "      box-shadow: 0px 1px 3px 1px rgba(0, 0, 0, 0.15);\n",
              "      filter: drop-shadow(0px 1px 2px rgba(0, 0, 0, 0.3));\n",
              "      fill: #FFFFFF;\n",
              "    }\n",
              "  </style>\n",
              "\n",
              "      <script>\n",
              "        const buttonEl =\n",
              "          document.querySelector('#df-978754fb-e6bc-4cc3-bde0-f236a84cedfe button.colab-df-convert');\n",
              "        buttonEl.style.display =\n",
              "          google.colab.kernel.accessAllowed ? 'block' : 'none';\n",
              "\n",
              "        async function convertToInteractive(key) {\n",
              "          const element = document.querySelector('#df-978754fb-e6bc-4cc3-bde0-f236a84cedfe');\n",
              "          const dataTable =\n",
              "            await google.colab.kernel.invokeFunction('convertToInteractive',\n",
              "                                                     [key], {});\n",
              "          if (!dataTable) return;\n",
              "\n",
              "          const docLinkHtml = 'Like what you see? Visit the ' +\n",
              "            '<a target=\"_blank\" href=https://colab.research.google.com/notebooks/data_table.ipynb>data table notebook</a>'\n",
              "            + ' to learn more about interactive tables.';\n",
              "          element.innerHTML = '';\n",
              "          dataTable['output_type'] = 'display_data';\n",
              "          await google.colab.output.renderOutput(dataTable, element);\n",
              "          const docLink = document.createElement('div');\n",
              "          docLink.innerHTML = docLinkHtml;\n",
              "          element.appendChild(docLink);\n",
              "        }\n",
              "      </script>\n",
              "    </div>\n",
              "  </div>\n",
              "  "
            ]
          },
          "metadata": {},
          "execution_count": 40
        }
      ],
      "source": [
        "df[['abs_diff_latitude', 'abs_diff_longitude']].describe()"
      ]
    },
    {
      "cell_type": "markdown",
      "metadata": {
        "id": "lGff_Qqa6Skk"
      },
      "source": [
        "**`passenger_count`**"
      ]
    },
    {
      "cell_type": "markdown",
      "metadata": {
        "id": "lXqjviIJ6Skk"
      },
      "source": [
        "Conforme vimos, há casos de corridas com 208 passageiros e também há corridas sem passageiros. \n",
        "Vamos supor que todos os carros de táxi só cabem 5 pessoas e, como já há o motorista, o número de passageiros deve ser no máximo 4. Assim, vamos excluir do nosso conjunto de dados os casos de corridas sem passageiros ou com mais de 4:"
      ]
    },
    {
      "cell_type": "code",
      "execution_count": null,
      "metadata": {
        "colab": {
          "base_uri": "https://localhost:8080/"
        },
        "id": "xg_PdyWt6Skk",
        "outputId": "1a693018-349e-4e4d-ce85-4044d04962b3"
      },
      "outputs": [
        {
          "output_type": "execute_result",
          "data": {
            "text/plain": [
              "3466"
            ]
          },
          "metadata": {},
          "execution_count": 41
        }
      ],
      "source": [
        "len(df.loc[df.passenger_count<1])"
      ]
    },
    {
      "cell_type": "code",
      "execution_count": null,
      "metadata": {
        "colab": {
          "base_uri": "https://localhost:8080/"
        },
        "id": "SLO9C0IV6Skl",
        "outputId": "6eac8a11-1023-4dbd-be37-993a6d32cfc4"
      },
      "outputs": [
        {
          "output_type": "execute_result",
          "data": {
            "text/plain": [
              "89097"
            ]
          },
          "metadata": {},
          "execution_count": 42
        }
      ],
      "source": [
        "len(df.loc[df.passenger_count>4])"
      ]
    },
    {
      "cell_type": "code",
      "execution_count": null,
      "metadata": {
        "id": "R9EtszYD6Skl"
      },
      "outputs": [],
      "source": [
        "df = df.loc[(df.passenger_count > 0) & (df.passenger_count<5)]"
      ]
    },
    {
      "cell_type": "code",
      "execution_count": null,
      "metadata": {
        "colab": {
          "base_uri": "https://localhost:8080/",
          "height": 296
        },
        "id": "9KRtA5q86Skl",
        "outputId": "a0813c9d-d924-497d-f7fc-04c47e2b1cbc"
      },
      "outputs": [
        {
          "output_type": "display_data",
          "data": {
            "text/plain": [
              "<Figure size 432x288 with 1 Axes>"
            ],
            "image/png": "[encoded data removed]"
          },
          "metadata": {
            "needs_background": "light"
          }
        }
      ],
      "source": [
        "sns.countplot(df['passenger_count']).set_title(\"Contagem de corridas com base no quantidade de passageiros\");"
      ]
    },
    {
      "cell_type": "code",
      "execution_count": null,
      "metadata": {
        "colab": {
          "base_uri": "https://localhost:8080/",
          "height": 385
        },
        "id": "CzlxL8tq6Skl",
        "outputId": "33e3bb11-421a-4515-bb36-35aa51b5c517"
      },
      "outputs": [
        {
          "output_type": "display_data",
          "data": {
            "text/plain": [
              "<Figure size 360x360 with 1 Axes>"
            ],
            "image/png": "[encoded data removed]"
          },
          "metadata": {
            "needs_background": "light"
          }
        }
      ],
      "source": [
        "sns.catplot(x=\"passenger_count\", y=\"fare_amount\", data=df,kind=\"bar\").set(title=\"Valor médio pago pela corrida de acordo com a quantidade de passageiros\");"
      ]
    },
    {
      "cell_type": "markdown",
      "metadata": {
        "id": "i4oj6-5t6Skl"
      },
      "source": [
        "São pouquíssimas as corridas com 4 passageiros; a maioria absoluta das corridas possuía apenas um passageiro.\n",
        "Com relação ao valor pago, essas corridas com somente um passageiro parecem ter uma média ligeiramente menor do que as corridas com mais passageiros."
      ]
    },
    {
      "cell_type": "markdown",
      "metadata": {
        "id": "gWvCiGhr6Skm"
      },
      "source": [
        "### Correlação"
      ]
    },
    {
      "cell_type": "code",
      "execution_count": null,
      "metadata": {
        "colab": {
          "base_uri": "https://localhost:8080/",
          "height": 373
        },
        "id": "CAoXi8_X6Skm",
        "outputId": "8e22fd5e-1291-4ebf-bb84-409569cd7ed6"
      },
      "outputs": [
        {
          "output_type": "display_data",
          "data": {
            "text/plain": [
              "<Figure size 432x288 with 2 Axes>"
            ],
            "image/png": "[encoded data removed]"
          },
          "metadata": {
            "needs_background": "light"
          }
        }
      ],
      "source": [
        "# Generate a mask for the upper triangle\n",
        "mask = np.zeros_like(df.corr(), dtype=np.bool)\n",
        "mask[np.triu_indices_from(mask)] = True\n",
        "\n",
        "# Generate a custom diverging colormap\n",
        "cmap = sns.diverging_palette(220, 10, as_cmap=True)\n",
        "\n",
        "# Draw the heatmap with the mask and correct aspect ratio\n",
        "sns.heatmap(df.corr(), mask=mask, cmap=cmap, center=0,\n",
        "            square=True, linewidths=.5, cbar_kws={\"shrink\": .5}).set_title(\"Correlação entre as variáveis numéricas presentes no conjunto de dados\");"
      ]
    },
    {
      "cell_type": "markdown",
      "metadata": {
        "id": "nf2F6qn96Skm"
      },
      "source": [
        "De acordo com a matriz de correlação acima, as features que criados referentes às coordenadas de latitude e longitude são as mais correlacionadas com o nosso target."
      ]
    },
    {
      "cell_type": "markdown",
      "metadata": {
        "id": "XlwF0ElN6Skm"
      },
      "source": [
        "#### Pronto, vamos parar por aqui com a análise exploratória e feature engineering hoje!"
      ]
    },
    {
      "cell_type": "markdown",
      "metadata": {
        "id": "hkdM72ED6Skm"
      },
      "source": [
        "O que mais poderíamos ter feito?\n",
        "\n",
        "- Ver os dias de feriados nos Estados Unidos\n",
        "- Tempo no horário do ínicio da corrida (se estava chovendo, muito frio, etc.)\n",
        "- Calcular a distância entre os pontos de origem e destino da corrida\n",
        "- Proximidade com estação de metrô"
      ]
    },
    {
      "cell_type": "markdown",
      "metadata": {
        "id": "3SEf9jLx6Skn"
      },
      "source": [
        "### Regressão Linear Simples"
      ]
    },
    {
      "cell_type": "markdown",
      "metadata": {
        "id": "xj-2fngk6Skn"
      },
      "source": [
        "Vamos criar a nossa primeira regressão linear escolhendo a variável que achamos que será a mais relevante. Para criar esse modelo, podemos usar a implementação da regressão linear existente no [sklearn](https://scikit-learn.org/stable/modules/generated/sklearn.linear_model.LinearRegression.html):"
      ]
    },
    {
      "cell_type": "code",
      "execution_count": null,
      "metadata": {
        "id": "UWnUBB8Q6Skn"
      },
      "outputs": [],
      "source": [
        "from sklearn.linear_model import LinearRegression"
      ]
    },
    {
      "cell_type": "code",
      "execution_count": null,
      "metadata": {
        "colab": {
          "base_uri": "https://localhost:8080/",
          "height": 459
        },
        "id": "iIZd4emh6Skn",
        "outputId": "bfb18200-8ca1-4537-f124-3ee15134ea80"
      },
      "outputs": [
        {
          "output_type": "display_data",
          "data": {
            "text/plain": [
              "<Figure size 720x504 with 1 Axes>"
            ],
            "image/png": "[encoded data removed]"
          },
          "metadata": {
            "needs_background": "light"
          }
        }
      ],
      "source": [
        "# Variável target x variável com a diferença absoluta entre as longitudes de origem e destino\n",
        "_ = df.plot.scatter(x='abs_diff_longitude', y='fare_amount', figsize=(10, 7))\n",
        "_ = plt.title('Diferença absoluta da longitude x Valor pago na corrida')"
      ]
    },
    {
      "cell_type": "code",
      "execution_count": null,
      "metadata": {
        "colab": {
          "base_uri": "https://localhost:8080/"
        },
        "id": "IJ7bxE-T6Skn",
        "outputId": "06770bc9-7447-47df-99e7-a9d3c14bc2a7"
      },
      "outputs": [
        {
          "output_type": "execute_result",
          "data": {
            "text/plain": [
              "0.8250564877600102"
            ]
          },
          "metadata": {},
          "execution_count": 49
        }
      ],
      "source": [
        "df.fare_amount.corr(df.abs_diff_longitude)"
      ]
    },
    {
      "cell_type": "markdown",
      "metadata": {
        "id": "NMEI4E6Q6Sko"
      },
      "source": [
        "Aparentemente, essa feature é uma boa indicadora para o preço da corrida, visto que a correlação é alta e parece haver uma tendência de que, quanto maior a a diferença da longitude, maior é o preço."
      ]
    },
    {
      "cell_type": "markdown",
      "metadata": {
        "id": "cA1jwxnw6Sko"
      },
      "source": [
        "#### Separação do conjunto de treino e teste"
      ]
    },
    {
      "cell_type": "code",
      "execution_count": null,
      "metadata": {
        "id": "3jJpzbCu6Sko"
      },
      "outputs": [],
      "source": [
        "Y = df['fare_amount']\n",
        "del df['fare_amount']\n",
        "X = df"
      ]
    },
    {
      "cell_type": "code",
      "execution_count": null,
      "metadata": {
        "id": "zM4rr1Z86Sko"
      },
      "outputs": [],
      "source": [
        "X_train, X_test, Y_train, Y_test = train_test_split(X, Y, test_size = 0.30, random_state = 42)"
      ]
    },
    {
      "cell_type": "code",
      "source": [
        "print(X_train.shape)\n",
        "X_train.head(1)"
      ],
      "metadata": {
        "colab": {
          "base_uri": "https://localhost:8080/",
          "height": 179
        },
        "id": "K2X09Wp1H4Iz",
        "outputId": "0c53f81d-e1f2-4446-d6f0-f681b75e8825"
      },
      "execution_count": null,
      "outputs": [
        {
          "output_type": "stream",
          "name": "stdout",
          "text": [
            "(614891, 15)\n"
          ]
        },
        {
          "output_type": "execute_result",
          "data": {
            "text/plain": [
              "                                key     pickup_datetime  pickup_longitude  \\\n",
              "401364  2015-04-01 09:35:10.0000001 2015-04-01 09:35:10         -73.90744   \n",
              "\n",
              "        pickup_latitude  dropoff_longitude  dropoff_latitude  passenger_count  \\\n",
              "401364        40.753376         -73.930832         40.744534                1   \n",
              "\n",
              "        pickup_hour  pickup_day_of_week  pickup_day  pickup_month  \\\n",
              "401364            9                   2           1             4   \n",
              "\n",
              "        pickup_year pickup_day_of_week_name  abs_diff_longitude  \\\n",
              "401364         2015                  Quarta            0.023392   \n",
              "\n",
              "        abs_diff_latitude  \n",
              "401364           0.008842  "
            ],
            "text/html": [
              "\n",
              "  <div id=\"df-98e4c036-c6ad-443a-b0cb-cdc0090bda7b\">\n",
              "    <div class=\"colab-df-container\">\n",
              "      <div>\n",
              "<style scoped>\n",
              "    .dataframe tbody tr th:only-of-type {\n",
              "        vertical-align: middle;\n",
              "    }\n",
              "\n",
              "    .dataframe tbody tr th {\n",
              "        vertical-align: top;\n",
              "    }\n",
              "\n",
              "    .dataframe thead th {\n",
              "        text-align: right;\n",
              "    }\n",
              "</style>\n",
              "<table border=\"1\" class=\"dataframe\">\n",
              "  <thead>\n",
              "    <tr style=\"text-align: right;\">\n",
              "      <th></th>\n",
              "      <th>key</th>\n",
              "      <th>pickup_datetime</th>\n",
              "      <th>pickup_longitude</th>\n",
              "      <th>pickup_latitude</th>\n",
              "      <th>dropoff_longitude</th>\n",
              "      <th>dropoff_latitude</th>\n",
              "      <th>passenger_count</th>\n",
              "      <th>pickup_hour</th>\n",
              "      <th>pickup_day_of_week</th>\n",
              "      <th>pickup_day</th>\n",
              "      <th>pickup_month</th>\n",
              "      <th>pickup_year</th>\n",
              "      <th>pickup_day_of_week_name</th>\n",
              "      <th>abs_diff_longitude</th>\n",
              "      <th>abs_diff_latitude</th>\n",
              "    </tr>\n",
              "  </thead>\n",
              "  <tbody>\n",
              "    <tr>\n",
              "      <th>401364</th>\n",
              "      <td>2015-04-01 09:35:10.0000001</td>\n",
              "      <td>2015-04-01 09:35:10</td>\n",
              "      <td>-73.90744</td>\n",
              "      <td>40.753376</td>\n",
              "      <td>-73.930832</td>\n",
              "      <td>40.744534</td>\n",
              "      <td>1</td>\n",
              "      <td>9</td>\n",
              "      <td>2</td>\n",
              "      <td>1</td>\n",
              "      <td>4</td>\n",
              "      <td>2015</td>\n",
              "      <td>Quarta</td>\n",
              "      <td>0.023392</td>\n",
              "      <td>0.008842</td>\n",
              "    </tr>\n",
              "  </tbody>\n",
              "</table>\n",
              "</div>\n",
              "      <button class=\"colab-df-convert\" onclick=\"convertToInteractive('df-98e4c036-c6ad-443a-b0cb-cdc0090bda7b')\"\n",
              "              title=\"Convert this dataframe to an interactive table.\"\n",
              "              style=\"display:none;\">\n",
              "        \n",
              "  <svg xmlns=\"http://www.w3.org/2000/svg\" height=\"24px\"viewBox=\"0 0 24 24\"\n",
              "       width=\"24px\">\n",
              "    <path d=\"M0 0h24v24H0V0z\" fill=\"none\"/>\n",
              "    <path d=\"M18.56 5.44l.94 2.06.94-2.06 2.06-.94-2.06-.94-.94-2.06-.94 2.06-2.06.94zm-11 1L8.5 8.5l.94-2.06 2.06-.94-2.06-.94L8.5 2.5l-.94 2.06-2.06.94zm10 10l.94 2.06.94-2.06 2.06-.94-2.06-.94-.94-2.06-.94 2.06-2.06.94z\"/><path d=\"M17.41 7.96l-1.37-1.37c-.4-.4-.92-.59-1.43-.59-.52 0-1.04.2-1.43.59L10.3 9.45l-7.72 7.72c-.78.78-.78 2.05 0 2.83L4 21.41c.39.39.9.59 1.41.59.51 0 1.02-.2 1.41-.59l7.78-7.78 2.81-2.81c.8-.78.8-2.07 0-2.86zM5.41 20L4 18.59l7.72-7.72 1.47 1.35L5.41 20z\"/>\n",
              "  </svg>\n",
              "      </button>\n",
              "      \n",
              "  <style>\n",
              "    .colab-df-container {\n",
              "      display:flex;\n",
              "      flex-wrap:wrap;\n",
              "      gap: 12px;\n",
              "    }\n",
              "\n",
              "    .colab-df-convert {\n",
              "      background-color: #E8F0FE;\n",
              "      border: none;\n",
              "      border-radius: 50%;\n",
              "      cursor: pointer;\n",
              "      display: none;\n",
              "      fill: #1967D2;\n",
              "      height: 32px;\n",
              "      padding: 0 0 0 0;\n",
              "      width: 32px;\n",
              "    }\n",
              "\n",
              "    .colab-df-convert:hover {\n",
              "      background-color: #E2EBFA;\n",
              "      box-shadow: 0px 1px 2px rgba(60, 64, 67, 0.3), 0px 1px 3px 1px rgba(60, 64, 67, 0.15);\n",
              "      fill: #174EA6;\n",
              "    }\n",
              "\n",
              "    [theme=dark] .colab-df-convert {\n",
              "      background-color: #3B4455;\n",
              "      fill: #D2E3FC;\n",
              "    }\n",
              "\n",
              "    [theme=dark] .colab-df-convert:hover {\n",
              "      background-color: #434B5C;\n",
              "      box-shadow: 0px 1px 3px 1px rgba(0, 0, 0, 0.15);\n",
              "      filter: drop-shadow(0px 1px 2px rgba(0, 0, 0, 0.3));\n",
              "      fill: #FFFFFF;\n",
              "    }\n",
              "  </style>\n",
              "\n",
              "      <script>\n",
              "        const buttonEl =\n",
              "          document.querySelector('#df-98e4c036-c6ad-443a-b0cb-cdc0090bda7b button.colab-df-convert');\n",
              "        buttonEl.style.display =\n",
              "          google.colab.kernel.accessAllowed ? 'block' : 'none';\n",
              "\n",
              "        async function convertToInteractive(key) {\n",
              "          const element = document.querySelector('#df-98e4c036-c6ad-443a-b0cb-cdc0090bda7b');\n",
              "          const dataTable =\n",
              "            await google.colab.kernel.invokeFunction('convertToInteractive',\n",
              "                                                     [key], {});\n",
              "          if (!dataTable) return;\n",
              "\n",
              "          const docLinkHtml = 'Like what you see? Visit the ' +\n",
              "            '<a target=\"_blank\" href=https://colab.research.google.com/notebooks/data_table.ipynb>data table notebook</a>'\n",
              "            + ' to learn more about interactive tables.';\n",
              "          element.innerHTML = '';\n",
              "          dataTable['output_type'] = 'display_data';\n",
              "          await google.colab.output.renderOutput(dataTable, element);\n",
              "          const docLink = document.createElement('div');\n",
              "          docLink.innerHTML = docLinkHtml;\n",
              "          element.appendChild(docLink);\n",
              "        }\n",
              "      </script>\n",
              "    </div>\n",
              "  </div>\n",
              "  "
            ]
          },
          "metadata": {},
          "execution_count": 52
        }
      ]
    },
    {
      "cell_type": "code",
      "source": [
        "print(Y_train.shape)\n",
        "Y_train.head(1)"
      ],
      "metadata": {
        "colab": {
          "base_uri": "https://localhost:8080/"
        },
        "id": "kV9iLb2XH_cR",
        "outputId": "97895e62-d6f5-4161-a1c2-b7d1783cbc01"
      },
      "execution_count": null,
      "outputs": [
        {
          "output_type": "stream",
          "name": "stdout",
          "text": [
            "(614891,)\n"
          ]
        },
        {
          "output_type": "execute_result",
          "data": {
            "text/plain": [
              "401364    8.0\n",
              "Name: fare_amount, dtype: float64"
            ]
          },
          "metadata": {},
          "execution_count": 53
        }
      ]
    },
    {
      "cell_type": "code",
      "source": [
        "print(X_test.shape)\n",
        "X_test.head(1)"
      ],
      "metadata": {
        "colab": {
          "base_uri": "https://localhost:8080/",
          "height": 179
        },
        "id": "XKxzdll0H4P7",
        "outputId": "023e817c-f3cc-4c1d-9de1-2f8d07f2e42f"
      },
      "execution_count": null,
      "outputs": [
        {
          "output_type": "stream",
          "name": "stdout",
          "text": [
            "(263525, 15)\n"
          ]
        },
        {
          "output_type": "execute_result",
          "data": {
            "text/plain": [
              "                                  key     pickup_datetime  pickup_longitude  \\\n",
              "823733  2011-02-26 20:26:00.000000110 2011-02-26 20:26:00        -73.862735   \n",
              "\n",
              "        pickup_latitude  dropoff_longitude  dropoff_latitude  passenger_count  \\\n",
              "823733         40.76883         -73.969447         40.797897                1   \n",
              "\n",
              "        pickup_hour  pickup_day_of_week  pickup_day  pickup_month  \\\n",
              "823733           20                   5          26             2   \n",
              "\n",
              "        pickup_year pickup_day_of_week_name  abs_diff_longitude  \\\n",
              "823733         2011                  Sábado            0.106712   \n",
              "\n",
              "        abs_diff_latitude  \n",
              "823733           0.029067  "
            ],
            "text/html": [
              "\n",
              "  <div id=\"df-fc817ae7-d27c-4f2e-9866-0508d3f30432\">\n",
              "    <div class=\"colab-df-container\">\n",
              "      <div>\n",
              "<style scoped>\n",
              "    .dataframe tbody tr th:only-of-type {\n",
              "        vertical-align: middle;\n",
              "    }\n",
              "\n",
              "    .dataframe tbody tr th {\n",
              "        vertical-align: top;\n",
              "    }\n",
              "\n",
              "    .dataframe thead th {\n",
              "        text-align: right;\n",
              "    }\n",
              "</style>\n",
              "<table border=\"1\" class=\"dataframe\">\n",
              "  <thead>\n",
              "    <tr style=\"text-align: right;\">\n",
              "      <th></th>\n",
              "      <th>key</th>\n",
              "      <th>pickup_datetime</th>\n",
              "      <th>pickup_longitude</th>\n",
              "      <th>pickup_latitude</th>\n",
              "      <th>dropoff_longitude</th>\n",
              "      <th>dropoff_latitude</th>\n",
              "      <th>passenger_count</th>\n",
              "      <th>pickup_hour</th>\n",
              "      <th>pickup_day_of_week</th>\n",
              "      <th>pickup_day</th>\n",
              "      <th>pickup_month</th>\n",
              "      <th>pickup_year</th>\n",
              "      <th>pickup_day_of_week_name</th>\n",
              "      <th>abs_diff_longitude</th>\n",
              "      <th>abs_diff_latitude</th>\n",
              "    </tr>\n",
              "  </thead>\n",
              "  <tbody>\n",
              "    <tr>\n",
              "      <th>823733</th>\n",
              "      <td>2011-02-26 20:26:00.000000110</td>\n",
              "      <td>2011-02-26 20:26:00</td>\n",
              "      <td>-73.862735</td>\n",
              "      <td>40.76883</td>\n",
              "      <td>-73.969447</td>\n",
              "      <td>40.797897</td>\n",
              "      <td>1</td>\n",
              "      <td>20</td>\n",
              "      <td>5</td>\n",
              "      <td>26</td>\n",
              "      <td>2</td>\n",
              "      <td>2011</td>\n",
              "      <td>Sábado</td>\n",
              "      <td>0.106712</td>\n",
              "      <td>0.029067</td>\n",
              "    </tr>\n",
              "  </tbody>\n",
              "</table>\n",
              "</div>\n",
              "      <button class=\"colab-df-convert\" onclick=\"convertToInteractive('df-fc817ae7-d27c-4f2e-9866-0508d3f30432')\"\n",
              "              title=\"Convert this dataframe to an interactive table.\"\n",
              "              style=\"display:none;\">\n",
              "        \n",
              "  <svg xmlns=\"http://www.w3.org/2000/svg\" height=\"24px\"viewBox=\"0 0 24 24\"\n",
              "       width=\"24px\">\n",
              "    <path d=\"M0 0h24v24H0V0z\" fill=\"none\"/>\n",
              "    <path d=\"M18.56 5.44l.94 2.06.94-2.06 2.06-.94-2.06-.94-.94-2.06-.94 2.06-2.06.94zm-11 1L8.5 8.5l.94-2.06 2.06-.94-2.06-.94L8.5 2.5l-.94 2.06-2.06.94zm10 10l.94 2.06.94-2.06 2.06-.94-2.06-.94-.94-2.06-.94 2.06-2.06.94z\"/><path d=\"M17.41 7.96l-1.37-1.37c-.4-.4-.92-.59-1.43-.59-.52 0-1.04.2-1.43.59L10.3 9.45l-7.72 7.72c-.78.78-.78 2.05 0 2.83L4 21.41c.39.39.9.59 1.41.59.51 0 1.02-.2 1.41-.59l7.78-7.78 2.81-2.81c.8-.78.8-2.07 0-2.86zM5.41 20L4 18.59l7.72-7.72 1.47 1.35L5.41 20z\"/>\n",
              "  </svg>\n",
              "      </button>\n",
              "      \n",
              "  <style>\n",
              "    .colab-df-container {\n",
              "      display:flex;\n",
              "      flex-wrap:wrap;\n",
              "      gap: 12px;\n",
              "    }\n",
              "\n",
              "    .colab-df-convert {\n",
              "      background-color: #E8F0FE;\n",
              "      border: none;\n",
              "      border-radius: 50%;\n",
              "      cursor: pointer;\n",
              "      display: none;\n",
              "      fill: #1967D2;\n",
              "      height: 32px;\n",
              "      padding: 0 0 0 0;\n",
              "      width: 32px;\n",
              "    }\n",
              "\n",
              "    .colab-df-convert:hover {\n",
              "      background-color: #E2EBFA;\n",
              "      box-shadow: 0px 1px 2px rgba(60, 64, 67, 0.3), 0px 1px 3px 1px rgba(60, 64, 67, 0.15);\n",
              "      fill: #174EA6;\n",
              "    }\n",
              "\n",
              "    [theme=dark] .colab-df-convert {\n",
              "      background-color: #3B4455;\n",
              "      fill: #D2E3FC;\n",
              "    }\n",
              "\n",
              "    [theme=dark] .colab-df-convert:hover {\n",
              "      background-color: #434B5C;\n",
              "      box-shadow: 0px 1px 3px 1px rgba(0, 0, 0, 0.15);\n",
              "      filter: drop-shadow(0px 1px 2px rgba(0, 0, 0, 0.3));\n",
              "      fill: #FFFFFF;\n",
              "    }\n",
              "  </style>\n",
              "\n",
              "      <script>\n",
              "        const buttonEl =\n",
              "          document.querySelector('#df-fc817ae7-d27c-4f2e-9866-0508d3f30432 button.colab-df-convert');\n",
              "        buttonEl.style.display =\n",
              "          google.colab.kernel.accessAllowed ? 'block' : 'none';\n",
              "\n",
              "        async function convertToInteractive(key) {\n",
              "          const element = document.querySelector('#df-fc817ae7-d27c-4f2e-9866-0508d3f30432');\n",
              "          const dataTable =\n",
              "            await google.colab.kernel.invokeFunction('convertToInteractive',\n",
              "                                                     [key], {});\n",
              "          if (!dataTable) return;\n",
              "\n",
              "          const docLinkHtml = 'Like what you see? Visit the ' +\n",
              "            '<a target=\"_blank\" href=https://colab.research.google.com/notebooks/data_table.ipynb>data table notebook</a>'\n",
              "            + ' to learn more about interactive tables.';\n",
              "          element.innerHTML = '';\n",
              "          dataTable['output_type'] = 'display_data';\n",
              "          await google.colab.output.renderOutput(dataTable, element);\n",
              "          const docLink = document.createElement('div');\n",
              "          docLink.innerHTML = docLinkHtml;\n",
              "          element.appendChild(docLink);\n",
              "        }\n",
              "      </script>\n",
              "    </div>\n",
              "  </div>\n",
              "  "
            ]
          },
          "metadata": {},
          "execution_count": 54
        }
      ]
    },
    {
      "cell_type": "code",
      "source": [
        "print(Y_test.shape)\n",
        "Y_test.head(1)"
      ],
      "metadata": {
        "colab": {
          "base_uri": "https://localhost:8080/"
        },
        "id": "RDAMGR5pIBVX",
        "outputId": "d0c2934f-7a1d-41b6-bb63-5c9061d21992"
      },
      "execution_count": null,
      "outputs": [
        {
          "output_type": "stream",
          "name": "stdout",
          "text": [
            "(263525,)\n"
          ]
        },
        {
          "output_type": "execute_result",
          "data": {
            "text/plain": [
              "823733    28.1\n",
              "Name: fare_amount, dtype: float64"
            ]
          },
          "metadata": {},
          "execution_count": 55
        }
      ]
    },
    {
      "cell_type": "markdown",
      "metadata": {
        "id": "ispwjnuN6Sko"
      },
      "source": [
        "#### Treinamento do modelo"
      ]
    },
    {
      "cell_type": "code",
      "execution_count": null,
      "metadata": {
        "colab": {
          "base_uri": "https://localhost:8080/"
        },
        "id": "aBmiRHl46Sko",
        "outputId": "8d7bea93-8a5e-4d94-b6e5-837b57f7c143"
      },
      "outputs": [
        {
          "output_type": "execute_result",
          "data": {
            "text/plain": [
              "LinearRegression()"
            ]
          },
          "metadata": {},
          "execution_count": 56
        }
      ],
      "source": [
        "# instancia a regressão linear\n",
        "lm = LinearRegression()\n",
        "# como vamos utilizar somente uma feature, vamos passar somente ela para treinar o modelo\n",
        "lm.fit(X_train[['abs_diff_longitude']], Y_train)"
      ]
    },
    {
      "cell_type": "markdown",
      "metadata": {
        "id": "V-FPubfX6Skp"
      },
      "source": [
        "#### Predição"
      ]
    },
    {
      "cell_type": "code",
      "execution_count": null,
      "metadata": {
        "id": "dOTDF38z6Skp"
      },
      "outputs": [],
      "source": [
        "# para fazer a predição também só devemos utilizar a feature fornecida no treinamento\n",
        "Y_pred = lm.predict(X_test[['abs_diff_longitude']])"
      ]
    },
    {
      "cell_type": "code",
      "execution_count": null,
      "metadata": {
        "colab": {
          "base_uri": "https://localhost:8080/",
          "height": 296
        },
        "id": "ZPHG9DIM6Skp",
        "outputId": "e46db7eb-62fd-42b5-edd8-d73897f14bf3"
      },
      "outputs": [
        {
          "output_type": "display_data",
          "data": {
            "text/plain": [
              "<Figure size 432x288 with 1 Axes>"
            ],
            "image/png": "[encoded data removed]"
          },
          "metadata": {
            "needs_background": "light"
          }
        }
      ],
      "source": [
        "_ = sns.regplot(x=Y_test, y=Y_pred).set_title(\"Distribuição do target vs valor predito pelo modelo\");"
      ]
    },
    {
      "cell_type": "markdown",
      "metadata": {
        "id": "jTKgHsLX6Skp"
      },
      "source": [
        "Yay, fizemos nossa primeira regressão linear! O legal é que podemos substituir os valores naquela fórmula do início do notebook para entender algumas coisas:"
      ]
    },
    {
      "cell_type": "code",
      "execution_count": null,
      "metadata": {
        "id": "vGnnqaob6Skp",
        "colab": {
          "base_uri": "https://localhost:8080/"
        },
        "outputId": "a5296f34-7ba1-4509-e925-858aee8073ef"
      },
      "outputs": [
        {
          "output_type": "execute_result",
          "data": {
            "text/plain": [
              "0.1067120000000017"
            ]
          },
          "metadata": {},
          "execution_count": 59
        }
      ],
      "source": [
        "# vamos pegar de exemplo o caso em que a diferença das longitudes é de 0.1067120000000017\n",
        "example = X_test[['abs_diff_longitude']].iloc[0][0]\n",
        "example"
      ]
    },
    {
      "cell_type": "code",
      "execution_count": null,
      "metadata": {
        "id": "0GCimE-G6Skq",
        "colab": {
          "base_uri": "https://localhost:8080/"
        },
        "outputId": "3474dc33-c908-426b-9069-e9c48aeb9171"
      },
      "outputs": [
        {
          "output_type": "stream",
          "name": "stdout",
          "text": [
            "[225.37880345]\n",
            "6.081784576615072\n"
          ]
        }
      ],
      "source": [
        "# aqui conseguimos pegar os coeficientes que compõem a equação da regressão linear\n",
        "beta=lm.coef_\n",
        "intercept=lm.intercept_\n",
        "print(beta)\n",
        "print(intercept)"
      ]
    },
    {
      "cell_type": "code",
      "execution_count": null,
      "metadata": {
        "id": "cKIxRXft6Skq",
        "colab": {
          "base_uri": "https://localhost:8080/"
        },
        "outputId": "dd1b37dc-8e67-4e76-d025-35a10222bfc6"
      },
      "outputs": [
        {
          "output_type": "execute_result",
          "data": {
            "text/plain": [
              "30.13240745082181"
            ]
          },
          "metadata": {},
          "execution_count": 61
        }
      ],
      "source": [
        "# Y = (225.37880345 * example) + 6.081784576615056\n",
        "(beta[0] * example) + intercept"
      ]
    },
    {
      "cell_type": "markdown",
      "metadata": {
        "id": "T_rrezDp6Skq"
      },
      "source": [
        "Substituindo os valores na fórmula, temos que esse passageiro teria pago cerca de 30 dólares na corrida. E esse valor da fórmula foi exatamente a mesma coisa que nosso modelo predisse:"
      ]
    },
    {
      "cell_type": "code",
      "execution_count": null,
      "metadata": {
        "id": "yPQNBf7G6Skq",
        "colab": {
          "base_uri": "https://localhost:8080/"
        },
        "outputId": "1741eaab-eb88-47b8-c566-f3e744a57b21"
      },
      "outputs": [
        {
          "output_type": "execute_result",
          "data": {
            "text/plain": [
              "30.13240745082181"
            ]
          },
          "metadata": {},
          "execution_count": 62
        }
      ],
      "source": [
        "Y_pred[0]"
      ]
    },
    {
      "cell_type": "markdown",
      "metadata": {
        "id": "Y_4Ttecz6Skq"
      },
      "source": [
        "Há mais duas informações interessantes que podemos observar com os coeficientes:\n",
        "- Cada vez que a diferença da longitude aumenta em 1, o preço da corrida aumenta em 225 dólares (calma que a diferença das longitudes não é tão alta assim!). \n",
        "- Além disso, podemos notar que se a origem e o destino do passageiro fossem o mesmo, ele pagaria 6 dólares."
      ]
    },
    {
      "cell_type": "markdown",
      "metadata": {
        "id": "jjISFEgp6Skq"
      },
      "source": [
        "Conforme tinhamos visto mais acima no notebook, a média da diferença da longitude é de 0.022119. Podemos usar esse número na fórmula que vimos no início da aula para calcular os valores que seriam preditos para a média das viagens:"
      ]
    },
    {
      "cell_type": "code",
      "execution_count": null,
      "metadata": {
        "id": "azUhRYV46Skr",
        "colab": {
          "base_uri": "https://localhost:8080/"
        },
        "outputId": "db4705fd-d0a1-470f-dfb6-dc77b6695e46"
      },
      "outputs": [
        {
          "output_type": "execute_result",
          "data": {
            "text/plain": [
              "array([11.06693833])"
            ]
          },
          "metadata": {},
          "execution_count": 63
        }
      ],
      "source": [
        "(beta * 0.022119) + intercept"
      ]
    },
    {
      "cell_type": "markdown",
      "metadata": {
        "id": "QYC832Qd6Skr"
      },
      "source": [
        "Para a média das viagens então, o nosso modelo iria predizer que o valor da corrida seria de quase 11 dólares."
      ]
    },
    {
      "cell_type": "markdown",
      "metadata": {
        "id": "xfjc1gV76Skr"
      },
      "source": [
        "**Mas será que nosso modelo está certo nessas predições?**"
      ]
    },
    {
      "cell_type": "markdown",
      "metadata": {
        "id": "kR2JS8M96Skr"
      },
      "source": [
        "![](https://media.giphy.com/media/26xBI73gWquCBBCDe/giphy.gif)"
      ]
    },
    {
      "cell_type": "markdown",
      "metadata": {
        "id": "r2VPxoBY6Skr"
      },
      "source": [
        "## Métricas de avaliação"
      ]
    },
    {
      "cell_type": "markdown",
      "metadata": {
        "id": "LuOh3Kiu6Skr"
      },
      "source": [
        "Existem diversas métricas para avaliar o erro da predição do nosso modelo. Hoje iremos ver as seguintes:\n",
        "- MSE (Mean Squared Error)\n",
        "- MAE (Mean Absolute Error)\n",
        "- R²\n",
        "\n",
        "[Aqui](https://medium.com/usf-msds/choosing-the-right-metric-for-machine-learning-models-part-1-a99d7d7414e4) tem um artigo falando sobre outras métricas de avaliação."
      ]
    },
    {
      "cell_type": "code",
      "execution_count": null,
      "metadata": {
        "id": "2vTdHKpE6Skr"
      },
      "outputs": [],
      "source": [
        "from sklearn.metrics import mean_squared_error, mean_absolute_error, r2_score"
      ]
    },
    {
      "cell_type": "markdown",
      "metadata": {
        "id": "T9K_Q07Q6Sks"
      },
      "source": [
        "**`MSE`**"
      ]
    },
    {
      "cell_type": "markdown",
      "metadata": {
        "id": "0Ct53wd76Sks"
      },
      "source": [
        "$\\frac{1}{N}\\sum{(y_{test} - y_{pred})^2}$\n",
        "\n",
        "O MSE calcula o erro quadrático médio das predições do nosso modelo. Quanto maior o MSE, pior é o modelo.\n",
        "\n",
        "Essa métrica é útil quando temos valores de target mais incomuns e que seriam interessantes que nosso modelo não errasse. \n",
        "\n",
        "Por outro lado, como os erros são penalizados exponencialmente, erros maiores tem um peso maior do que os erros menores. Então, se o nosso modelo faz apenas uma predição muito, muito ruim, o MSE irá elevar esse erro ao quadrado e, com isso, esse erro ficará ainda pior e acabaremos achando que o nosso modelo está performando pior do que realmente está.\n",
        "\n",
        "Outro ponto é que a escala do MSE não é a mesma do nosso target (visto que os erros são elevados ao quadrado), então sua interpretação fica mais difícil."
      ]
    },
    {
      "cell_type": "code",
      "execution_count": null,
      "metadata": {
        "id": "VMR_tXUa6Sks",
        "colab": {
          "base_uri": "https://localhost:8080/"
        },
        "outputId": "6c697c82-dc7b-43de-847d-ed479cb33af4"
      },
      "outputs": [
        {
          "output_type": "execute_result",
          "data": {
            "text/plain": [
              "24.697109703696587"
            ]
          },
          "metadata": {},
          "execution_count": 65
        }
      ],
      "source": [
        "mse = mean_squared_error(Y_test, Y_pred)\n",
        "mse"
      ]
    },
    {
      "cell_type": "markdown",
      "metadata": {
        "id": "byVP-c-w6Sks"
      },
      "source": [
        "**`MAE`**"
      ]
    },
    {
      "cell_type": "markdown",
      "metadata": {
        "id": "cnYP8mVX6Sks"
      },
      "source": [
        "$\\frac{1}{N}\\sum{|y_{test} - y_{pred}|}$\n",
        "\n",
        "O MAE calcula a média da diferença absoluta entre o valor predito e o valor real. Nesse caso, os erros são penalizados linearmente, ou seja, todos terão o mesmo peso na média.\n",
        "\n",
        "Sua vantagem perante o MSE é que, como a escala é a mesma do target, é mais fácil interpretá-lo. Além disso, essa métrica não penaliza tanto erros maiores como o MSE e, com isso, o MAE não é tão sensível a outliers como o MSE."
      ]
    },
    {
      "cell_type": "code",
      "execution_count": null,
      "metadata": {
        "id": "TWT0zo-Y6Sks",
        "colab": {
          "base_uri": "https://localhost:8080/"
        },
        "outputId": "8e5e40ad-c104-4f1a-cd2a-56c7d93c41d9"
      },
      "outputs": [
        {
          "output_type": "execute_result",
          "data": {
            "text/plain": [
              "3.1877263310509876"
            ]
          },
          "metadata": {},
          "execution_count": 66
        }
      ],
      "source": [
        "mae = mean_absolute_error(Y_test, Y_pred)\n",
        "mae"
      ]
    },
    {
      "cell_type": "markdown",
      "metadata": {
        "id": "tkNUrR3Q6Sks"
      },
      "source": [
        "**`R²`**"
      ]
    },
    {
      "cell_type": "markdown",
      "metadata": {
        "id": "ZVEmnfra6Skt"
      },
      "source": [
        "$1 - \\frac{\\frac{1}{N}\\sum{(y_{test} - y_{pred})^2}}{\\frac{1}{N}\\sum{(y_{test} - \\bar{y})^2}}$\n",
        "\n",
        "O R² é uma métrica que varia entre -∞ e 1 e é uma razão que indica o quão bom o nosso modelo está em comparação com um modelo naive que faz a predição com base no valor médio do target. Quanto maior seu valor, melhor é nosso modelo com relação a esse modelo mais simplista.\n",
        "\n",
        "Um valor de R² negativo significa que nosso modelo é pior do que se tivéssemos feito a predição com o valor da média. Entretanto, só com essa métrica não conseguimos enxergar a magnitude dos erros do nosso modelo."
      ]
    },
    {
      "cell_type": "code",
      "execution_count": null,
      "metadata": {
        "id": "t9CGTy5v6Skt",
        "colab": {
          "base_uri": "https://localhost:8080/"
        },
        "outputId": "e074b1ec-d6d8-4540-f235-8b0eb08e20c8"
      },
      "outputs": [
        {
          "output_type": "execute_result",
          "data": {
            "text/plain": [
              "0.6810560930980911"
            ]
          },
          "metadata": {},
          "execution_count": 67
        }
      ],
      "source": [
        "r2_score(Y_test, Y_pred)"
      ]
    },
    {
      "cell_type": "markdown",
      "metadata": {
        "id": "OZBgGeY86Skt"
      },
      "source": [
        "Como no nosso caso temos aqueles valores de corrida por volta de 100 dólares que parecem outliers, vamos considerar somente o MAE e o R<sup>2</sup> para o cálculo dos erros do nosso modelo."
      ]
    },
    {
      "cell_type": "markdown",
      "metadata": {
        "id": "MHf73UoK6Skt"
      },
      "source": [
        "Observando essas métricas de erro, podemos dizer que o modelo não está tão ruim, visto que está melhor do que um modelo que chutasse todos os valores como a média e cujo erro médio absoluto é de cerca de 3 dólares."
      ]
    },
    {
      "cell_type": "markdown",
      "metadata": {
        "id": "qKubS8yq6Skt"
      },
      "source": [
        "Hum, mas será que se nós tivéssemos usado a mediana dos valores pagos na corrida teria sido melhor do que criar um modelo de regressão linear? Será que perdemos nosso tempo? :("
      ]
    },
    {
      "cell_type": "code",
      "execution_count": null,
      "metadata": {
        "colab": {
          "base_uri": "https://localhost:8080/"
        },
        "id": "Brs0Qs4M6Skt",
        "outputId": "1a463c27-b3dd-4bd6-e86e-7fb780e8ecd8"
      },
      "outputs": [
        {
          "output_type": "execute_result",
          "data": {
            "text/plain": [
              "8.5"
            ]
          },
          "metadata": {},
          "execution_count": 68
        }
      ],
      "source": [
        "median = Y_train.median()\n",
        "median "
      ]
    },
    {
      "cell_type": "code",
      "execution_count": null,
      "metadata": {
        "id": "O7kh0s-d6Skt"
      },
      "outputs": [],
      "source": [
        "X_test['median_fare_amount'] = median"
      ]
    },
    {
      "cell_type": "code",
      "execution_count": null,
      "metadata": {
        "colab": {
          "base_uri": "https://localhost:8080/"
        },
        "id": "DOFMCuJI6Skt",
        "outputId": "7c108984-0bc1-49d2-fba7-8a1a168914ea"
      },
      "outputs": [
        {
          "output_type": "execute_result",
          "data": {
            "text/plain": [
              "5.11990744711128"
            ]
          },
          "metadata": {},
          "execution_count": 70
        }
      ],
      "source": [
        "mae = mean_absolute_error(Y_test, X_test['median_fare_amount'])\n",
        "mae"
      ]
    },
    {
      "cell_type": "code",
      "execution_count": null,
      "metadata": {
        "colab": {
          "base_uri": "https://localhost:8080/"
        },
        "id": "ll5gUm5E6Sku",
        "outputId": "210cefa4-9b56-445a-ef5e-5d6e4cd5acb2"
      },
      "outputs": [
        {
          "output_type": "execute_result",
          "data": {
            "text/plain": [
              "-0.08501430324232406"
            ]
          },
          "metadata": {},
          "execution_count": 71
        }
      ],
      "source": [
        "r2_score(Y_test, X_test['median_fare_amount'])"
      ]
    },
    {
      "cell_type": "markdown",
      "metadata": {
        "id": "pHimj6Tl6Sku"
      },
      "source": [
        "Ufa, então nosso modelo está melhor do que essa \"predição\" pela mediana! \\o/\n",
        "\n",
        "Mas será que escolhemos a melhor feature? Vamos tentar criar outro modelo com outra feature que a gente acredite que seja relevante, calculamos seu erro e verificamos se ele está melhor do que o nosso modelo anterior:"
      ]
    },
    {
      "cell_type": "code",
      "execution_count": null,
      "metadata": {
        "colab": {
          "base_uri": "https://localhost:8080/"
        },
        "id": "Jl-WeHXg6Sku",
        "outputId": "79387272-780d-4d6b-f1d2-6658276e93cb"
      },
      "outputs": [
        {
          "output_type": "execute_result",
          "data": {
            "text/plain": [
              "LinearRegression()"
            ]
          },
          "metadata": {},
          "execution_count": 72
        }
      ],
      "source": [
        "lm.fit(X_train[['abs_diff_latitude']], Y_train)"
      ]
    },
    {
      "cell_type": "code",
      "execution_count": null,
      "metadata": {
        "id": "THbMtbcA6Sku"
      },
      "outputs": [],
      "source": [
        "Y_pred = lm.predict(X_test[['abs_diff_latitude']])"
      ]
    },
    {
      "cell_type": "code",
      "execution_count": null,
      "metadata": {
        "colab": {
          "base_uri": "https://localhost:8080/"
        },
        "id": "6ziz4bKC6Sku",
        "outputId": "5153a3a3-61e2-49e8-9e84-70c7df318e0a"
      },
      "outputs": [
        {
          "output_type": "stream",
          "name": "stdout",
          "text": [
            "[279.82492887]\n",
            "5.25118382146758\n"
          ]
        }
      ],
      "source": [
        "beta=lm.coef_\n",
        "intercept=lm.intercept_\n",
        "print(beta)\n",
        "print(intercept)"
      ]
    },
    {
      "cell_type": "code",
      "execution_count": null,
      "metadata": {
        "colab": {
          "base_uri": "https://localhost:8080/"
        },
        "id": "ueOkysB-6Sku",
        "outputId": "71cd8c2e-60df-4c42-a937-50b06f25b723"
      },
      "outputs": [
        {
          "output_type": "execute_result",
          "data": {
            "text/plain": [
              "3.718685333704191"
            ]
          },
          "metadata": {},
          "execution_count": 75
        }
      ],
      "source": [
        "mae = mean_absolute_error(Y_test, Y_pred)\n",
        "mae"
      ]
    },
    {
      "cell_type": "code",
      "execution_count": null,
      "metadata": {
        "colab": {
          "base_uri": "https://localhost:8080/"
        },
        "id": "wYu3yJng6Sku",
        "outputId": "db921fe5-67a7-4aa9-f115-5c29e55a63ab"
      },
      "outputs": [
        {
          "output_type": "execute_result",
          "data": {
            "text/plain": [
              "0.477625221051739"
            ]
          },
          "metadata": {},
          "execution_count": 76
        }
      ],
      "source": [
        "r2_score(Y_test, Y_pred)"
      ]
    },
    {
      "cell_type": "markdown",
      "metadata": {
        "id": "5ldqVOOy6Skv"
      },
      "source": [
        "Olhando o MAE e o R², esse segundo modelo não foi melhor que o primeiro, visto que o MAE aumentou e o R² diminuiu...\n",
        "\n",
        "Mas vocês acham que faz sentido a gente ficar criando um modelo só com uma feature mesmo ou o ideal seria combinar com outras que temos disponíveis?"
      ]
    },
    {
      "cell_type": "markdown",
      "metadata": {
        "id": "KCv86biu6Skv"
      },
      "source": [
        "## Regressão Linear Múltipla"
      ]
    },
    {
      "cell_type": "markdown",
      "metadata": {
        "id": "cpIpGdhX6Skv"
      },
      "source": [
        "Sim, nós podemos utilizar mais de uma feature para fazer a nossa regressão! Quando fazemos isso, é uma **regressão linear múltipla**.\n",
        "\n",
        "<img src=\"https://sds-platform-private.s3-us-east-2.amazonaws.com/uploads/38_blog_image_1.png\" width=\"400\"/>\n",
        "\n",
        "Vamos então colocar todas as features que temos disponíveis (e que achamos que fazem sentido):"
      ]
    },
    {
      "cell_type": "code",
      "execution_count": null,
      "metadata": {
        "id": "IJcmgYhj6Skv"
      },
      "outputs": [],
      "source": [
        "columns = ['pickup_longitude','pickup_latitude', 'dropoff_longitude', 'dropoff_latitude',\n",
        "       'passenger_count', 'pickup_hour', 'pickup_day_of_week', 'pickup_day',\n",
        "       'pickup_month', 'pickup_year','abs_diff_longitude', 'abs_diff_latitude']"
      ]
    },
    {
      "cell_type": "code",
      "execution_count": null,
      "metadata": {
        "colab": {
          "base_uri": "https://localhost:8080/"
        },
        "id": "c7bQxqfT6Skv",
        "outputId": "0c847bb5-8371-40d8-ba20-8e06049135f8"
      },
      "outputs": [
        {
          "output_type": "execute_result",
          "data": {
            "text/plain": [
              "LinearRegression()"
            ]
          },
          "metadata": {},
          "execution_count": 78
        }
      ],
      "source": [
        "lm.fit(X_train[columns], Y_train)"
      ]
    },
    {
      "cell_type": "code",
      "execution_count": null,
      "metadata": {
        "id": "nbqgBbPO6Skv"
      },
      "outputs": [],
      "source": [
        "Y_pred = lm.predict(X_test[columns])"
      ]
    },
    {
      "cell_type": "code",
      "execution_count": null,
      "metadata": {
        "id": "3XXITtPj6Skv"
      },
      "outputs": [],
      "source": [
        "beta=lm.coef_\n",
        "intercept=lm.intercept_"
      ]
    },
    {
      "cell_type": "code",
      "execution_count": null,
      "metadata": {
        "colab": {
          "base_uri": "https://localhost:8080/"
        },
        "id": "DQo2IvJw6Skv",
        "outputId": "c4740eb2-29e8-48dd-ed32-c7590f3a5000"
      },
      "outputs": [
        {
          "output_type": "execute_result",
          "data": {
            "text/plain": [
              "[14.963782473276721,\n",
              " 2.737995707200696,\n",
              " 7.607031022297448,\n",
              " -18.425442438177704,\n",
              " 0.11678265334679905,\n",
              " 0.011291087632848473,\n",
              " -0.03347907210247669,\n",
              " 0.001126808852028649,\n",
              " 0.0669584128300924,\n",
              " 0.49129557017506453,\n",
              " 160.9297290108895,\n",
              " 137.05547818525534]"
            ]
          },
          "metadata": {},
          "execution_count": 81
        }
      ],
      "source": [
        "beta.tolist()"
      ]
    },
    {
      "cell_type": "code",
      "execution_count": null,
      "metadata": {
        "colab": {
          "base_uri": "https://localhost:8080/"
        },
        "id": "AEv2CY9B6Skw",
        "outputId": "8544ff06-cd34-4eb4-b894-298b8d7bf77d"
      },
      "outputs": [
        {
          "output_type": "execute_result",
          "data": {
            "text/plain": [
              "1324.6273746789398"
            ]
          },
          "metadata": {},
          "execution_count": 82
        }
      ],
      "source": [
        "intercept"
      ]
    },
    {
      "cell_type": "code",
      "execution_count": null,
      "metadata": {
        "colab": {
          "base_uri": "https://localhost:8080/"
        },
        "id": "dC5x5Ty36Skw",
        "outputId": "5bc03876-2fd0-49eb-be8d-936280f80bcf"
      },
      "outputs": [
        {
          "output_type": "execute_result",
          "data": {
            "text/plain": [
              "2.349518969694522"
            ]
          },
          "metadata": {},
          "execution_count": 83
        }
      ],
      "source": [
        "mae = mean_absolute_error(Y_test, Y_pred)\n",
        "mae"
      ]
    },
    {
      "cell_type": "code",
      "execution_count": null,
      "metadata": {
        "colab": {
          "base_uri": "https://localhost:8080/"
        },
        "id": "01IWEgF16Skw",
        "outputId": "b759a5e4-71dd-4533-abe5-c407ca5c2214"
      },
      "outputs": [
        {
          "output_type": "execute_result",
          "data": {
            "text/plain": [
              "0.7791099540760904"
            ]
          },
          "metadata": {},
          "execution_count": 84
        }
      ],
      "source": [
        "r2_score(Y_test, Y_pred)"
      ]
    },
    {
      "cell_type": "markdown",
      "metadata": {
        "id": "XHcLiH6X6Skw"
      },
      "source": [
        "Parece que temos um modelo melhor! Diminuímos o MAE e aumentamos o R²!\n",
        "\n",
        "![](http://giphygifs.s3.amazonaws.com/media/AOrThUuuOoDCg/giphy.gif)"
      ]
    },
    {
      "cell_type": "markdown",
      "metadata": {
        "id": "oqGrRkE_6Skw"
      },
      "source": [
        "Como temos vários coeficientes agora, podemos tentar visualizá-los de uma forma um pouco melhor para entender seus pesos:"
      ]
    },
    {
      "cell_type": "code",
      "execution_count": null,
      "metadata": {
        "colab": {
          "base_uri": "https://localhost:8080/",
          "height": 426
        },
        "id": "xB_rCUOO6Skw",
        "outputId": "c3edeae6-bed6-4a7b-cfd7-6fca82f0e9af"
      },
      "outputs": [
        {
          "output_type": "execute_result",
          "data": {
            "text/plain": [
              "                 names       coefs\n",
              "0     pickup_longitude   14.963782\n",
              "1      pickup_latitude    2.737996\n",
              "2    dropoff_longitude    7.607031\n",
              "3     dropoff_latitude  -18.425442\n",
              "4      passenger_count    0.116783\n",
              "5          pickup_hour    0.011291\n",
              "6   pickup_day_of_week   -0.033479\n",
              "7           pickup_day    0.001127\n",
              "8         pickup_month    0.066958\n",
              "9          pickup_year    0.491296\n",
              "10  abs_diff_longitude  160.929729\n",
              "11   abs_diff_latitude  137.055478"
            ],
            "text/html": [
              "\n",
              "  <div id=\"df-1c569eee-5cae-48bd-92b1-023a806a0825\">\n",
              "    <div class=\"colab-df-container\">\n",
              "      <div>\n",
              "<style scoped>\n",
              "    .dataframe tbody tr th:only-of-type {\n",
              "        vertical-align: middle;\n",
              "    }\n",
              "\n",
              "    .dataframe tbody tr th {\n",
              "        vertical-align: top;\n",
              "    }\n",
              "\n",
              "    .dataframe thead th {\n",
              "        text-align: right;\n",
              "    }\n",
              "</style>\n",
              "<table border=\"1\" class=\"dataframe\">\n",
              "  <thead>\n",
              "    <tr style=\"text-align: right;\">\n",
              "      <th></th>\n",
              "      <th>names</th>\n",
              "      <th>coefs</th>\n",
              "    </tr>\n",
              "  </thead>\n",
              "  <tbody>\n",
              "    <tr>\n",
              "      <th>0</th>\n",
              "      <td>pickup_longitude</td>\n",
              "      <td>14.963782</td>\n",
              "    </tr>\n",
              "    <tr>\n",
              "      <th>1</th>\n",
              "      <td>pickup_latitude</td>\n",
              "      <td>2.737996</td>\n",
              "    </tr>\n",
              "    <tr>\n",
              "      <th>2</th>\n",
              "      <td>dropoff_longitude</td>\n",
              "      <td>7.607031</td>\n",
              "    </tr>\n",
              "    <tr>\n",
              "      <th>3</th>\n",
              "      <td>dropoff_latitude</td>\n",
              "      <td>-18.425442</td>\n",
              "    </tr>\n",
              "    <tr>\n",
              "      <th>4</th>\n",
              "      <td>passenger_count</td>\n",
              "      <td>0.116783</td>\n",
              "    </tr>\n",
              "    <tr>\n",
              "      <th>5</th>\n",
              "      <td>pickup_hour</td>\n",
              "      <td>0.011291</td>\n",
              "    </tr>\n",
              "    <tr>\n",
              "      <th>6</th>\n",
              "      <td>pickup_day_of_week</td>\n",
              "      <td>-0.033479</td>\n",
              "    </tr>\n",
              "    <tr>\n",
              "      <th>7</th>\n",
              "      <td>pickup_day</td>\n",
              "      <td>0.001127</td>\n",
              "    </tr>\n",
              "    <tr>\n",
              "      <th>8</th>\n",
              "      <td>pickup_month</td>\n",
              "      <td>0.066958</td>\n",
              "    </tr>\n",
              "    <tr>\n",
              "      <th>9</th>\n",
              "      <td>pickup_year</td>\n",
              "      <td>0.491296</td>\n",
              "    </tr>\n",
              "    <tr>\n",
              "      <th>10</th>\n",
              "      <td>abs_diff_longitude</td>\n",
              "      <td>160.929729</td>\n",
              "    </tr>\n",
              "    <tr>\n",
              "      <th>11</th>\n",
              "      <td>abs_diff_latitude</td>\n",
              "      <td>137.055478</td>\n",
              "    </tr>\n",
              "  </tbody>\n",
              "</table>\n",
              "</div>\n",
              "      <button class=\"colab-df-convert\" onclick=\"convertToInteractive('df-1c569eee-5cae-48bd-92b1-023a806a0825')\"\n",
              "              title=\"Convert this dataframe to an interactive table.\"\n",
              "              style=\"display:none;\">\n",
              "        \n",
              "  <svg xmlns=\"http://www.w3.org/2000/svg\" height=\"24px\"viewBox=\"0 0 24 24\"\n",
              "       width=\"24px\">\n",
              "    <path d=\"M0 0h24v24H0V0z\" fill=\"none\"/>\n",
              "    <path d=\"M18.56 5.44l.94 2.06.94-2.06 2.06-.94-2.06-.94-.94-2.06-.94 2.06-2.06.94zm-11 1L8.5 8.5l.94-2.06 2.06-.94-2.06-.94L8.5 2.5l-.94 2.06-2.06.94zm10 10l.94 2.06.94-2.06 2.06-.94-2.06-.94-.94-2.06-.94 2.06-2.06.94z\"/><path d=\"M17.41 7.96l-1.37-1.37c-.4-.4-.92-.59-1.43-.59-.52 0-1.04.2-1.43.59L10.3 9.45l-7.72 7.72c-.78.78-.78 2.05 0 2.83L4 21.41c.39.39.9.59 1.41.59.51 0 1.02-.2 1.41-.59l7.78-7.78 2.81-2.81c.8-.78.8-2.07 0-2.86zM5.41 20L4 18.59l7.72-7.72 1.47 1.35L5.41 20z\"/>\n",
              "  </svg>\n",
              "      </button>\n",
              "      \n",
              "  <style>\n",
              "    .colab-df-container {\n",
              "      display:flex;\n",
              "      flex-wrap:wrap;\n",
              "      gap: 12px;\n",
              "    }\n",
              "\n",
              "    .colab-df-convert {\n",
              "      background-color: #E8F0FE;\n",
              "      border: none;\n",
              "      border-radius: 50%;\n",
              "      cursor: pointer;\n",
              "      display: none;\n",
              "      fill: #1967D2;\n",
              "      height: 32px;\n",
              "      padding: 0 0 0 0;\n",
              "      width: 32px;\n",
              "    }\n",
              "\n",
              "    .colab-df-convert:hover {\n",
              "      background-color: #E2EBFA;\n",
              "      box-shadow: 0px 1px 2px rgba(60, 64, 67, 0.3), 0px 1px 3px 1px rgba(60, 64, 67, 0.15);\n",
              "      fill: #174EA6;\n",
              "    }\n",
              "\n",
              "    [theme=dark] .colab-df-convert {\n",
              "      background-color: #3B4455;\n",
              "      fill: #D2E3FC;\n",
              "    }\n",
              "\n",
              "    [theme=dark] .colab-df-convert:hover {\n",
              "      background-color: #434B5C;\n",
              "      box-shadow: 0px 1px 3px 1px rgba(0, 0, 0, 0.15);\n",
              "      filter: drop-shadow(0px 1px 2px rgba(0, 0, 0, 0.3));\n",
              "      fill: #FFFFFF;\n",
              "    }\n",
              "  </style>\n",
              "\n",
              "      <script>\n",
              "        const buttonEl =\n",
              "          document.querySelector('#df-1c569eee-5cae-48bd-92b1-023a806a0825 button.colab-df-convert');\n",
              "        buttonEl.style.display =\n",
              "          google.colab.kernel.accessAllowed ? 'block' : 'none';\n",
              "\n",
              "        async function convertToInteractive(key) {\n",
              "          const element = document.querySelector('#df-1c569eee-5cae-48bd-92b1-023a806a0825');\n",
              "          const dataTable =\n",
              "            await google.colab.kernel.invokeFunction('convertToInteractive',\n",
              "                                                     [key], {});\n",
              "          if (!dataTable) return;\n",
              "\n",
              "          const docLinkHtml = 'Like what you see? Visit the ' +\n",
              "            '<a target=\"_blank\" href=https://colab.research.google.com/notebooks/data_table.ipynb>data table notebook</a>'\n",
              "            + ' to learn more about interactive tables.';\n",
              "          element.innerHTML = '';\n",
              "          dataTable['output_type'] = 'display_data';\n",
              "          await google.colab.output.renderOutput(dataTable, element);\n",
              "          const docLink = document.createElement('div');\n",
              "          docLink.innerHTML = docLinkHtml;\n",
              "          element.appendChild(docLink);\n",
              "        }\n",
              "      </script>\n",
              "    </div>\n",
              "  </div>\n",
              "  "
            ]
          },
          "metadata": {},
          "execution_count": 85
        }
      ],
      "source": [
        "weights = pd.DataFrame(list(zip(columns, lm.coef_.tolist())),columns=['names', 'coefs'])\n",
        "weights"
      ]
    },
    {
      "cell_type": "code",
      "execution_count": null,
      "metadata": {
        "colab": {
          "base_uri": "https://localhost:8080/",
          "height": 387
        },
        "id": "PDiRNXA26Skw",
        "outputId": "8a27a93c-08eb-43d0-b579-c43fd997a074"
      },
      "outputs": [
        {
          "output_type": "display_data",
          "data": {
            "text/plain": [
              "<Figure size 432x288 with 1 Axes>"
            ],
            "image/png": "[encoded data removed]"
          },
          "metadata": {
            "needs_background": "light"
          }
        }
      ],
      "source": [
        "sns.barplot(weights.names, weights.coefs).set_title(\"Coeficiente das variáveis presentes no modelo\");\n",
        "plt.xticks(rotation=90);"
      ]
    },
    {
      "cell_type": "markdown",
      "metadata": {
        "id": "P1X1k4TA6Skx"
      },
      "source": [
        "Aqui podemos ver que os coeficientes maiores são os relacionados às features com a diferença absoluta entre as latitudes e longitudes."
      ]
    },
    {
      "cell_type": "markdown",
      "metadata": {
        "id": "oXhA0Ui26Skx"
      },
      "source": [
        "Mas será que faz sentido deixar essas features correlacionadas e que já estão presentes em outras features que criamos, como a `pickup_longitude`?\n",
        "\n",
        "Podemos treinar mais um modelo de regressão linear múltipla, mas dessa vez removendo as features correlacionadas:"
      ]
    },
    {
      "cell_type": "code",
      "execution_count": null,
      "metadata": {
        "colab": {
          "base_uri": "https://localhost:8080/"
        },
        "id": "AByDD3_s6Skx",
        "outputId": "3fcb0db5-7353-4566-cb16-2e29d8770edc"
      },
      "outputs": [
        {
          "output_type": "execute_result",
          "data": {
            "text/plain": [
              "LinearRegression()"
            ]
          },
          "metadata": {},
          "execution_count": 87
        }
      ],
      "source": [
        "lm.fit(X_train[['passenger_count', 'pickup_hour', 'pickup_day_of_week', 'pickup_day',\n",
        "       'pickup_month', 'pickup_year','abs_diff_longitude', 'abs_diff_latitude']], Y_train)"
      ]
    },
    {
      "cell_type": "code",
      "execution_count": null,
      "metadata": {
        "id": "Bi-3IixP6Skx"
      },
      "outputs": [],
      "source": [
        "Y_pred = lm.predict(X_test[['passenger_count', 'pickup_hour', 'pickup_day_of_week', 'pickup_day',\n",
        "       'pickup_month', 'pickup_year','abs_diff_longitude', 'abs_diff_latitude']])"
      ]
    },
    {
      "cell_type": "code",
      "execution_count": null,
      "metadata": {
        "colab": {
          "base_uri": "https://localhost:8080/"
        },
        "id": "odX2FM2P6Skx",
        "outputId": "67b5d08f-9f19-44a1-fdb3-ccf34a031d55"
      },
      "outputs": [
        {
          "output_type": "execute_result",
          "data": {
            "text/plain": [
              "2.3660051393119104"
            ]
          },
          "metadata": {},
          "execution_count": 89
        }
      ],
      "source": [
        "mae = mean_absolute_error(Y_test, Y_pred)\n",
        "mae"
      ]
    },
    {
      "cell_type": "code",
      "execution_count": null,
      "metadata": {
        "colab": {
          "base_uri": "https://localhost:8080/"
        },
        "id": "0DF9pWL36Skx",
        "outputId": "8a7fb145-014c-451e-ba69-2f6e5086ebe8"
      },
      "outputs": [
        {
          "output_type": "execute_result",
          "data": {
            "text/plain": [
              "0.7738888492753323"
            ]
          },
          "metadata": {},
          "execution_count": 90
        }
      ],
      "source": [
        "r2_score(Y_test, Y_pred)"
      ]
    },
    {
      "cell_type": "markdown",
      "metadata": {
        "id": "bYfPtW4f6Skx"
      },
      "source": [
        "É, não conseguimos diminuir nosso erro e fazer um modelo melhor que o anterior. Entretanto, como a diferença de erro entre os dois modelos foi bem pequena e os resultados do R² dos dois foi bem parecida, pode ser interessante escolher essa última versão porque com ela temos um modelo menos complexo e que traz resultados satisfatórios."
      ]
    },
    {
      "cell_type": "markdown",
      "metadata": {
        "id": "tafdKpPs6Skx"
      },
      "source": [
        "### E quais são as vantagens de se fazer um modelo utilizando uma regressão linear?"
      ]
    },
    {
      "cell_type": "markdown",
      "metadata": {
        "id": "T0w1OlLi6Skx"
      },
      "source": [
        "- Ele é um modelo bem simples\n",
        "- Fácil de entender\n",
        "- Ideal para problemas em que sabemos que as variáveis independentes (features) e a dependente (target) possuem uma relação linear"
      ]
    },
    {
      "cell_type": "markdown",
      "metadata": {
        "id": "3Lg8smgK6Sky"
      },
      "source": [
        "### E quais são as desvantagens?"
      ]
    },
    {
      "cell_type": "markdown",
      "metadata": {
        "id": "36_SV51q6Sky"
      },
      "source": [
        "- Muitos problemas no \"mundo real\" não possuem uma clara relação linear entre o target e as features\n",
        "- Pode sofrer com outliers"
      ]
    },
    {
      "cell_type": "markdown",
      "metadata": {
        "id": "GG9qy2S_6Sky"
      },
      "source": [
        "## Próximos passos\n",
        "\n",
        "![](http://giphygifs.s3.amazonaws.com/media/L6EoLS78pcBag/giphy.gif)"
      ]
    },
    {
      "cell_type": "markdown",
      "metadata": {
        "id": "LPnHZizq6Sky"
      },
      "source": [
        "Para exercitar o que aprenderam hoje, vocês podem participar de algumas competições de regressão que existem no Kaggle:\n",
        "- [House Prices: Advanced Regression Techniques](https://www.kaggle.com/c/house-prices-advanced-regression-techniques/data)\n",
        "- [BigQuery-Geotab Intersection Congestion](https://www.kaggle.com/c/bigquery-geotab-intersection-congestion/overview)"
      ]
    },
    {
      "cell_type": "markdown",
      "metadata": {
        "id": "jmXwWB2I6Sky"
      },
      "source": [
        "Além disso, vocês podem inclusive fazer as predições para o conjunto chamado de `test` disponível na página da competição do Kaggle [New York City Taxi Fare Prediction](https://www.kaggle.com/c/new-york-city-taxi-fare-prediction) com o nosso melhor modelo porque usamos justamente esse conjunto de dados de treinamento dessa competição na aula de hoje :D"
      ]
    },
    {
      "cell_type": "markdown",
      "metadata": {
        "id": "9yLz5FXa6Sky"
      },
      "source": [
        "Possivelmente o resultado não será muito bom, visto que só treinamos o modelo com uma pequena porção do conjunto de dados original. O conjunto de dados na verdade possui **55 milhões de exemplos**!"
      ]
    },
    {
      "cell_type": "markdown",
      "metadata": {
        "id": "7Y3efg666Sky"
      },
      "source": [
        "![](https://media.giphy.com/media/s3qCaXmFQqJsQ/giphy.gif)"
      ]
    },
    {
      "cell_type": "markdown",
      "metadata": {
        "id": "sLVm2IdI6Sky"
      },
      "source": [
        "Caso vocês queiram treinar esse modelo de novo, mas com mais exemplos, podem tentar usar o [Google Colab](https://colab.research.google.com/).\n",
        "\n",
        "Além de treinar o modelo com novos exemplos, também pode ser interessante fazer outros tratamentos e análises mencionados na aula ou usar a criatividade e tentar outras coisas para tentar diminuir o erro do modelo ;)"
      ]
    },
    {
      "cell_type": "markdown",
      "metadata": {
        "id": "m4pfcKnz6Sky"
      },
      "source": [
        "<img src=\"https://media.giphy.com/media/osjgQPWRx3cac/giphy.gif\" width=\"350\"/>"
      ]
    }
  ],
  "metadata": {
    "kernelspec": {
      "display_name": "Python 3",
      "language": "python",
      "name": "python3"
    },
    "language_info": {
      "codemirror_mode": {
        "name": "ipython",
        "version": 3
      },
      "file_extension": ".py",
      "mimetype": "text/x-python",
      "name": "python",
      "nbconvert_exporter": "python",
      "pygments_lexer": "ipython3",
      "version": "3.6.8"
    },
    "colab": {
      "name": "linear_regression_gabarito.ipynb",
      "provenance": [],
      "collapsed_sections": []
    }
  },
  "nbformat": 4,
  "nbformat_minor": 0
}